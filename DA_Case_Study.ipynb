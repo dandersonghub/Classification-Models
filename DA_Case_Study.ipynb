{
  "nbformat": 4,
  "nbformat_minor": 0,
  "metadata": {
    "colab": {
      "provenance": []
    },
    "kernelspec": {
      "name": "python3",
      "display_name": "Python 3"
    },
    "language_info": {
      "name": "python"
    }
  },
  "cells": [
    {
      "cell_type": "markdown",
      "metadata": {
        "id": "avdoZl1f6mPP"
      },
      "source": [
        "## Import Data <a name=\"import\"></a>\n"
      ]
    },
    {
      "cell_type": "markdown",
      "metadata": {
        "id": "UJF0GoEF6mPP"
      },
      "source": [
        "Import libraries:\n"
      ]
    },
    {
      "cell_type": "code",
      "source": [
        "import pandas as pd\n",
        "import pylab as pl\n",
        "import numpy as np\n",
        "import scipy.optimize as opt\n",
        "from sklearn import preprocessing\n",
        "from sklearn.impute import SimpleImputer\n",
        "%matplotlib inline \n",
        "import matplotlib.pyplot as plt\n",
        "import seaborn as sns\n",
        "from sklearn.metrics import confusion_matrix, precision_score, recall_score, auc, roc_curve, roc_auc_score, accuracy_score, classification_report "
      ],
      "metadata": {
        "id": "Y7DlCQdJe03t"
      },
      "execution_count": 1,
      "outputs": []
    },
    {
      "cell_type": "markdown",
      "metadata": {
        "id": "nhUqhNNR6mPQ"
      },
      "source": [
        "Load the data and store it in dataframe `df`:\n"
      ]
    },
    {
      "cell_type": "code",
      "source": [
        "# Read in and explore dataset\n",
        "url = \"https://raw.githubusercontent.com/dandersonghub/Case-Study/main/DSCS.csv\"\n",
        "df = pd.read_csv(url)\n",
        "df.head()"
      ],
      "metadata": {
        "colab": {
          "base_uri": "https://localhost:8080/",
          "height": 270
        },
        "id": "WYo_0rdlKQcr",
        "outputId": "cefc2f49-9821-45ef-e5ce-1a53579ad1ef"
      },
      "execution_count": 2,
      "outputs": [
        {
          "output_type": "execute_result",
          "data": {
            "text/plain": [
              "  ProviderStatusGroup  SanctionCount  LocationCount ProviderTypeIdName  \\\n",
              "0          Registered              0            NaN                 MD   \n",
              "1          Registered              0            NaN                 MD   \n",
              "2          Registered              0            NaN                 MD   \n",
              "3          Registered              0            NaN                 MD   \n",
              "4          Registered              0            NaN                APN   \n",
              "\n",
              "  PrimaryPracticeStateIdName   Email1Domain Email1Root  Email1AddressBounced  \\\n",
              "0                         FL      gmail.com        com                   0.0   \n",
              "1                         AR      yahoo.com        com                   0.0   \n",
              "2                         IL     icloud.com        com                   0.0   \n",
              "3                         NH  hitchcock.org        org                   0.0   \n",
              "4                         GA      gmail.com        com                   0.0   \n",
              "\n",
              "   PracticeStateCount  ProviderAgeNearestDecade  \n",
              "0                 NaN                      40.0  \n",
              "1                 NaN                      40.0  \n",
              "2                 NaN                      30.0  \n",
              "3                 NaN                      50.0  \n",
              "4                 NaN                      30.0  "
            ],
            "text/html": [
              "\n",
              "  <div id=\"df-54e1c8d5-c911-493c-8dd3-036e83ddeeb4\">\n",
              "    <div class=\"colab-df-container\">\n",
              "      <div>\n",
              "<style scoped>\n",
              "    .dataframe tbody tr th:only-of-type {\n",
              "        vertical-align: middle;\n",
              "    }\n",
              "\n",
              "    .dataframe tbody tr th {\n",
              "        vertical-align: top;\n",
              "    }\n",
              "\n",
              "    .dataframe thead th {\n",
              "        text-align: right;\n",
              "    }\n",
              "</style>\n",
              "<table border=\"1\" class=\"dataframe\">\n",
              "  <thead>\n",
              "    <tr style=\"text-align: right;\">\n",
              "      <th></th>\n",
              "      <th>ProviderStatusGroup</th>\n",
              "      <th>SanctionCount</th>\n",
              "      <th>LocationCount</th>\n",
              "      <th>ProviderTypeIdName</th>\n",
              "      <th>PrimaryPracticeStateIdName</th>\n",
              "      <th>Email1Domain</th>\n",
              "      <th>Email1Root</th>\n",
              "      <th>Email1AddressBounced</th>\n",
              "      <th>PracticeStateCount</th>\n",
              "      <th>ProviderAgeNearestDecade</th>\n",
              "    </tr>\n",
              "  </thead>\n",
              "  <tbody>\n",
              "    <tr>\n",
              "      <th>0</th>\n",
              "      <td>Registered</td>\n",
              "      <td>0</td>\n",
              "      <td>NaN</td>\n",
              "      <td>MD</td>\n",
              "      <td>FL</td>\n",
              "      <td>gmail.com</td>\n",
              "      <td>com</td>\n",
              "      <td>0.0</td>\n",
              "      <td>NaN</td>\n",
              "      <td>40.0</td>\n",
              "    </tr>\n",
              "    <tr>\n",
              "      <th>1</th>\n",
              "      <td>Registered</td>\n",
              "      <td>0</td>\n",
              "      <td>NaN</td>\n",
              "      <td>MD</td>\n",
              "      <td>AR</td>\n",
              "      <td>yahoo.com</td>\n",
              "      <td>com</td>\n",
              "      <td>0.0</td>\n",
              "      <td>NaN</td>\n",
              "      <td>40.0</td>\n",
              "    </tr>\n",
              "    <tr>\n",
              "      <th>2</th>\n",
              "      <td>Registered</td>\n",
              "      <td>0</td>\n",
              "      <td>NaN</td>\n",
              "      <td>MD</td>\n",
              "      <td>IL</td>\n",
              "      <td>icloud.com</td>\n",
              "      <td>com</td>\n",
              "      <td>0.0</td>\n",
              "      <td>NaN</td>\n",
              "      <td>30.0</td>\n",
              "    </tr>\n",
              "    <tr>\n",
              "      <th>3</th>\n",
              "      <td>Registered</td>\n",
              "      <td>0</td>\n",
              "      <td>NaN</td>\n",
              "      <td>MD</td>\n",
              "      <td>NH</td>\n",
              "      <td>hitchcock.org</td>\n",
              "      <td>org</td>\n",
              "      <td>0.0</td>\n",
              "      <td>NaN</td>\n",
              "      <td>50.0</td>\n",
              "    </tr>\n",
              "    <tr>\n",
              "      <th>4</th>\n",
              "      <td>Registered</td>\n",
              "      <td>0</td>\n",
              "      <td>NaN</td>\n",
              "      <td>APN</td>\n",
              "      <td>GA</td>\n",
              "      <td>gmail.com</td>\n",
              "      <td>com</td>\n",
              "      <td>0.0</td>\n",
              "      <td>NaN</td>\n",
              "      <td>30.0</td>\n",
              "    </tr>\n",
              "  </tbody>\n",
              "</table>\n",
              "</div>\n",
              "      <button class=\"colab-df-convert\" onclick=\"convertToInteractive('df-54e1c8d5-c911-493c-8dd3-036e83ddeeb4')\"\n",
              "              title=\"Convert this dataframe to an interactive table.\"\n",
              "              style=\"display:none;\">\n",
              "        \n",
              "  <svg xmlns=\"http://www.w3.org/2000/svg\" height=\"24px\"viewBox=\"0 0 24 24\"\n",
              "       width=\"24px\">\n",
              "    <path d=\"M0 0h24v24H0V0z\" fill=\"none\"/>\n",
              "    <path d=\"M18.56 5.44l.94 2.06.94-2.06 2.06-.94-2.06-.94-.94-2.06-.94 2.06-2.06.94zm-11 1L8.5 8.5l.94-2.06 2.06-.94-2.06-.94L8.5 2.5l-.94 2.06-2.06.94zm10 10l.94 2.06.94-2.06 2.06-.94-2.06-.94-.94-2.06-.94 2.06-2.06.94z\"/><path d=\"M17.41 7.96l-1.37-1.37c-.4-.4-.92-.59-1.43-.59-.52 0-1.04.2-1.43.59L10.3 9.45l-7.72 7.72c-.78.78-.78 2.05 0 2.83L4 21.41c.39.39.9.59 1.41.59.51 0 1.02-.2 1.41-.59l7.78-7.78 2.81-2.81c.8-.78.8-2.07 0-2.86zM5.41 20L4 18.59l7.72-7.72 1.47 1.35L5.41 20z\"/>\n",
              "  </svg>\n",
              "      </button>\n",
              "      \n",
              "  <style>\n",
              "    .colab-df-container {\n",
              "      display:flex;\n",
              "      flex-wrap:wrap;\n",
              "      gap: 12px;\n",
              "    }\n",
              "\n",
              "    .colab-df-convert {\n",
              "      background-color: #E8F0FE;\n",
              "      border: none;\n",
              "      border-radius: 50%;\n",
              "      cursor: pointer;\n",
              "      display: none;\n",
              "      fill: #1967D2;\n",
              "      height: 32px;\n",
              "      padding: 0 0 0 0;\n",
              "      width: 32px;\n",
              "    }\n",
              "\n",
              "    .colab-df-convert:hover {\n",
              "      background-color: #E2EBFA;\n",
              "      box-shadow: 0px 1px 2px rgba(60, 64, 67, 0.3), 0px 1px 3px 1px rgba(60, 64, 67, 0.15);\n",
              "      fill: #174EA6;\n",
              "    }\n",
              "\n",
              "    [theme=dark] .colab-df-convert {\n",
              "      background-color: #3B4455;\n",
              "      fill: #D2E3FC;\n",
              "    }\n",
              "\n",
              "    [theme=dark] .colab-df-convert:hover {\n",
              "      background-color: #434B5C;\n",
              "      box-shadow: 0px 1px 3px 1px rgba(0, 0, 0, 0.15);\n",
              "      filter: drop-shadow(0px 1px 2px rgba(0, 0, 0, 0.3));\n",
              "      fill: #FFFFFF;\n",
              "    }\n",
              "  </style>\n",
              "\n",
              "      <script>\n",
              "        const buttonEl =\n",
              "          document.querySelector('#df-54e1c8d5-c911-493c-8dd3-036e83ddeeb4 button.colab-df-convert');\n",
              "        buttonEl.style.display =\n",
              "          google.colab.kernel.accessAllowed ? 'block' : 'none';\n",
              "\n",
              "        async function convertToInteractive(key) {\n",
              "          const element = document.querySelector('#df-54e1c8d5-c911-493c-8dd3-036e83ddeeb4');\n",
              "          const dataTable =\n",
              "            await google.colab.kernel.invokeFunction('convertToInteractive',\n",
              "                                                     [key], {});\n",
              "          if (!dataTable) return;\n",
              "\n",
              "          const docLinkHtml = 'Like what you see? Visit the ' +\n",
              "            '<a target=\"_blank\" href=https://colab.research.google.com/notebooks/data_table.ipynb>data table notebook</a>'\n",
              "            + ' to learn more about interactive tables.';\n",
              "          element.innerHTML = '';\n",
              "          dataTable['output_type'] = 'display_data';\n",
              "          await google.colab.output.renderOutput(dataTable, element);\n",
              "          const docLink = document.createElement('div');\n",
              "          docLink.innerHTML = docLinkHtml;\n",
              "          element.appendChild(docLink);\n",
              "        }\n",
              "      </script>\n",
              "    </div>\n",
              "  </div>\n",
              "  "
            ]
          },
          "metadata": {},
          "execution_count": 2
        }
      ]
    },
    {
      "cell_type": "code",
      "source": [
        "# Display df content\n",
        "df.info()"
      ],
      "metadata": {
        "colab": {
          "base_uri": "https://localhost:8080/"
        },
        "id": "MZaiVJWgOqEp",
        "outputId": "bce6769b-f74a-45d6-feb8-3132564f3b61"
      },
      "execution_count": 3,
      "outputs": [
        {
          "output_type": "stream",
          "name": "stdout",
          "text": [
            "<class 'pandas.core.frame.DataFrame'>\n",
            "RangeIndex: 1000 entries, 0 to 999\n",
            "Data columns (total 10 columns):\n",
            " #   Column                      Non-Null Count  Dtype  \n",
            "---  ------                      --------------  -----  \n",
            " 0   ProviderStatusGroup         1000 non-null   object \n",
            " 1   SanctionCount               1000 non-null   int64  \n",
            " 2   LocationCount               369 non-null    float64\n",
            " 3   ProviderTypeIdName          938 non-null    object \n",
            " 4   PrimaryPracticeStateIdName  938 non-null    object \n",
            " 5   Email1Domain                648 non-null    object \n",
            " 6   Email1Root                  648 non-null    object \n",
            " 7   Email1AddressBounced        648 non-null    float64\n",
            " 8   PracticeStateCount          369 non-null    float64\n",
            " 9   ProviderAgeNearestDecade    983 non-null    float64\n",
            "dtypes: float64(4), int64(1), object(5)\n",
            "memory usage: 78.2+ KB\n"
          ]
        }
      ]
    },
    {
      "cell_type": "code",
      "source": [
        "# View all missing values by column\n",
        "df.isnull().sum()"
      ],
      "metadata": {
        "colab": {
          "base_uri": "https://localhost:8080/"
        },
        "id": "Hva8ne8ReFVA",
        "outputId": "f764679e-3fb0-4944-d259-31ae0655d968"
      },
      "execution_count": 4,
      "outputs": [
        {
          "output_type": "execute_result",
          "data": {
            "text/plain": [
              "ProviderStatusGroup             0\n",
              "SanctionCount                   0\n",
              "LocationCount                 631\n",
              "ProviderTypeIdName             62\n",
              "PrimaryPracticeStateIdName     62\n",
              "Email1Domain                  352\n",
              "Email1Root                    352\n",
              "Email1AddressBounced          352\n",
              "PracticeStateCount            631\n",
              "ProviderAgeNearestDecade       17\n",
              "dtype: int64"
            ]
          },
          "metadata": {},
          "execution_count": 4
        }
      ]
    },
    {
      "cell_type": "code",
      "source": [
        "# Descriptive Statistics for Dataframe (numeric columns)\n",
        "df.describe()"
      ],
      "metadata": {
        "colab": {
          "base_uri": "https://localhost:8080/",
          "height": 344
        },
        "id": "KzZ1BNRRfj5D",
        "outputId": "47fc39c2-85f7-48b5-c6cc-2a23b66e78cb"
      },
      "execution_count": 5,
      "outputs": [
        {
          "output_type": "execute_result",
          "data": {
            "text/plain": [
              "       SanctionCount  LocationCount  Email1AddressBounced  PracticeStateCount  \\\n",
              "count    1000.000000     369.000000            648.000000          369.000000   \n",
              "mean        0.030000       2.550136              0.081790            2.550136   \n",
              "std         0.301979       4.024153              0.274256            4.024153   \n",
              "min         0.000000       1.000000              0.000000            1.000000   \n",
              "25%         0.000000       1.000000              0.000000            1.000000   \n",
              "50%         0.000000       1.000000              0.000000            1.000000   \n",
              "75%         0.000000       2.000000              0.000000            2.000000   \n",
              "max         6.000000      39.000000              1.000000           39.000000   \n",
              "\n",
              "       ProviderAgeNearestDecade  \n",
              "count                983.000000  \n",
              "mean                  42.706002  \n",
              "std                   12.748629  \n",
              "min                   20.000000  \n",
              "25%                   30.000000  \n",
              "50%                   40.000000  \n",
              "75%                   50.000000  \n",
              "max                   80.000000  "
            ],
            "text/html": [
              "\n",
              "  <div id=\"df-0ee32420-8104-446f-a2c7-67335d41db58\">\n",
              "    <div class=\"colab-df-container\">\n",
              "      <div>\n",
              "<style scoped>\n",
              "    .dataframe tbody tr th:only-of-type {\n",
              "        vertical-align: middle;\n",
              "    }\n",
              "\n",
              "    .dataframe tbody tr th {\n",
              "        vertical-align: top;\n",
              "    }\n",
              "\n",
              "    .dataframe thead th {\n",
              "        text-align: right;\n",
              "    }\n",
              "</style>\n",
              "<table border=\"1\" class=\"dataframe\">\n",
              "  <thead>\n",
              "    <tr style=\"text-align: right;\">\n",
              "      <th></th>\n",
              "      <th>SanctionCount</th>\n",
              "      <th>LocationCount</th>\n",
              "      <th>Email1AddressBounced</th>\n",
              "      <th>PracticeStateCount</th>\n",
              "      <th>ProviderAgeNearestDecade</th>\n",
              "    </tr>\n",
              "  </thead>\n",
              "  <tbody>\n",
              "    <tr>\n",
              "      <th>count</th>\n",
              "      <td>1000.000000</td>\n",
              "      <td>369.000000</td>\n",
              "      <td>648.000000</td>\n",
              "      <td>369.000000</td>\n",
              "      <td>983.000000</td>\n",
              "    </tr>\n",
              "    <tr>\n",
              "      <th>mean</th>\n",
              "      <td>0.030000</td>\n",
              "      <td>2.550136</td>\n",
              "      <td>0.081790</td>\n",
              "      <td>2.550136</td>\n",
              "      <td>42.706002</td>\n",
              "    </tr>\n",
              "    <tr>\n",
              "      <th>std</th>\n",
              "      <td>0.301979</td>\n",
              "      <td>4.024153</td>\n",
              "      <td>0.274256</td>\n",
              "      <td>4.024153</td>\n",
              "      <td>12.748629</td>\n",
              "    </tr>\n",
              "    <tr>\n",
              "      <th>min</th>\n",
              "      <td>0.000000</td>\n",
              "      <td>1.000000</td>\n",
              "      <td>0.000000</td>\n",
              "      <td>1.000000</td>\n",
              "      <td>20.000000</td>\n",
              "    </tr>\n",
              "    <tr>\n",
              "      <th>25%</th>\n",
              "      <td>0.000000</td>\n",
              "      <td>1.000000</td>\n",
              "      <td>0.000000</td>\n",
              "      <td>1.000000</td>\n",
              "      <td>30.000000</td>\n",
              "    </tr>\n",
              "    <tr>\n",
              "      <th>50%</th>\n",
              "      <td>0.000000</td>\n",
              "      <td>1.000000</td>\n",
              "      <td>0.000000</td>\n",
              "      <td>1.000000</td>\n",
              "      <td>40.000000</td>\n",
              "    </tr>\n",
              "    <tr>\n",
              "      <th>75%</th>\n",
              "      <td>0.000000</td>\n",
              "      <td>2.000000</td>\n",
              "      <td>0.000000</td>\n",
              "      <td>2.000000</td>\n",
              "      <td>50.000000</td>\n",
              "    </tr>\n",
              "    <tr>\n",
              "      <th>max</th>\n",
              "      <td>6.000000</td>\n",
              "      <td>39.000000</td>\n",
              "      <td>1.000000</td>\n",
              "      <td>39.000000</td>\n",
              "      <td>80.000000</td>\n",
              "    </tr>\n",
              "  </tbody>\n",
              "</table>\n",
              "</div>\n",
              "      <button class=\"colab-df-convert\" onclick=\"convertToInteractive('df-0ee32420-8104-446f-a2c7-67335d41db58')\"\n",
              "              title=\"Convert this dataframe to an interactive table.\"\n",
              "              style=\"display:none;\">\n",
              "        \n",
              "  <svg xmlns=\"http://www.w3.org/2000/svg\" height=\"24px\"viewBox=\"0 0 24 24\"\n",
              "       width=\"24px\">\n",
              "    <path d=\"M0 0h24v24H0V0z\" fill=\"none\"/>\n",
              "    <path d=\"M18.56 5.44l.94 2.06.94-2.06 2.06-.94-2.06-.94-.94-2.06-.94 2.06-2.06.94zm-11 1L8.5 8.5l.94-2.06 2.06-.94-2.06-.94L8.5 2.5l-.94 2.06-2.06.94zm10 10l.94 2.06.94-2.06 2.06-.94-2.06-.94-.94-2.06-.94 2.06-2.06.94z\"/><path d=\"M17.41 7.96l-1.37-1.37c-.4-.4-.92-.59-1.43-.59-.52 0-1.04.2-1.43.59L10.3 9.45l-7.72 7.72c-.78.78-.78 2.05 0 2.83L4 21.41c.39.39.9.59 1.41.59.51 0 1.02-.2 1.41-.59l7.78-7.78 2.81-2.81c.8-.78.8-2.07 0-2.86zM5.41 20L4 18.59l7.72-7.72 1.47 1.35L5.41 20z\"/>\n",
              "  </svg>\n",
              "      </button>\n",
              "      \n",
              "  <style>\n",
              "    .colab-df-container {\n",
              "      display:flex;\n",
              "      flex-wrap:wrap;\n",
              "      gap: 12px;\n",
              "    }\n",
              "\n",
              "    .colab-df-convert {\n",
              "      background-color: #E8F0FE;\n",
              "      border: none;\n",
              "      border-radius: 50%;\n",
              "      cursor: pointer;\n",
              "      display: none;\n",
              "      fill: #1967D2;\n",
              "      height: 32px;\n",
              "      padding: 0 0 0 0;\n",
              "      width: 32px;\n",
              "    }\n",
              "\n",
              "    .colab-df-convert:hover {\n",
              "      background-color: #E2EBFA;\n",
              "      box-shadow: 0px 1px 2px rgba(60, 64, 67, 0.3), 0px 1px 3px 1px rgba(60, 64, 67, 0.15);\n",
              "      fill: #174EA6;\n",
              "    }\n",
              "\n",
              "    [theme=dark] .colab-df-convert {\n",
              "      background-color: #3B4455;\n",
              "      fill: #D2E3FC;\n",
              "    }\n",
              "\n",
              "    [theme=dark] .colab-df-convert:hover {\n",
              "      background-color: #434B5C;\n",
              "      box-shadow: 0px 1px 3px 1px rgba(0, 0, 0, 0.15);\n",
              "      filter: drop-shadow(0px 1px 2px rgba(0, 0, 0, 0.3));\n",
              "      fill: #FFFFFF;\n",
              "    }\n",
              "  </style>\n",
              "\n",
              "      <script>\n",
              "        const buttonEl =\n",
              "          document.querySelector('#df-0ee32420-8104-446f-a2c7-67335d41db58 button.colab-df-convert');\n",
              "        buttonEl.style.display =\n",
              "          google.colab.kernel.accessAllowed ? 'block' : 'none';\n",
              "\n",
              "        async function convertToInteractive(key) {\n",
              "          const element = document.querySelector('#df-0ee32420-8104-446f-a2c7-67335d41db58');\n",
              "          const dataTable =\n",
              "            await google.colab.kernel.invokeFunction('convertToInteractive',\n",
              "                                                     [key], {});\n",
              "          if (!dataTable) return;\n",
              "\n",
              "          const docLinkHtml = 'Like what you see? Visit the ' +\n",
              "            '<a target=\"_blank\" href=https://colab.research.google.com/notebooks/data_table.ipynb>data table notebook</a>'\n",
              "            + ' to learn more about interactive tables.';\n",
              "          element.innerHTML = '';\n",
              "          dataTable['output_type'] = 'display_data';\n",
              "          await google.colab.output.renderOutput(dataTable, element);\n",
              "          const docLink = document.createElement('div');\n",
              "          docLink.innerHTML = docLinkHtml;\n",
              "          element.appendChild(docLink);\n",
              "        }\n",
              "      </script>\n",
              "    </div>\n",
              "  </div>\n",
              "  "
            ]
          },
          "metadata": {},
          "execution_count": 5
        }
      ]
    },
    {
      "cell_type": "code",
      "source": [
        "# Descriptive Statistics for 'Character' Columns\n",
        "df.describe(include='object')"
      ],
      "metadata": {
        "colab": {
          "base_uri": "https://localhost:8080/",
          "height": 175
        },
        "id": "byMx6fDAO5TR",
        "outputId": "e33608de-734a-44e3-c522-0cc46b502b0a"
      },
      "execution_count": 6,
      "outputs": [
        {
          "output_type": "execute_result",
          "data": {
            "text/plain": [
              "       ProviderStatusGroup ProviderTypeIdName PrimaryPracticeStateIdName  \\\n",
              "count                 1000                938                        938   \n",
              "unique                   2                 26                         49   \n",
              "top             Registered                 MD                         SC   \n",
              "freq                   500                285                        163   \n",
              "\n",
              "       Email1Domain Email1Root  \n",
              "count           648        648  \n",
              "unique          284         13  \n",
              "top       gmail.com        com  \n",
              "freq            210        477  "
            ],
            "text/html": [
              "\n",
              "  <div id=\"df-ad18cb84-f716-4ae5-b7e3-e4852039d329\">\n",
              "    <div class=\"colab-df-container\">\n",
              "      <div>\n",
              "<style scoped>\n",
              "    .dataframe tbody tr th:only-of-type {\n",
              "        vertical-align: middle;\n",
              "    }\n",
              "\n",
              "    .dataframe tbody tr th {\n",
              "        vertical-align: top;\n",
              "    }\n",
              "\n",
              "    .dataframe thead th {\n",
              "        text-align: right;\n",
              "    }\n",
              "</style>\n",
              "<table border=\"1\" class=\"dataframe\">\n",
              "  <thead>\n",
              "    <tr style=\"text-align: right;\">\n",
              "      <th></th>\n",
              "      <th>ProviderStatusGroup</th>\n",
              "      <th>ProviderTypeIdName</th>\n",
              "      <th>PrimaryPracticeStateIdName</th>\n",
              "      <th>Email1Domain</th>\n",
              "      <th>Email1Root</th>\n",
              "    </tr>\n",
              "  </thead>\n",
              "  <tbody>\n",
              "    <tr>\n",
              "      <th>count</th>\n",
              "      <td>1000</td>\n",
              "      <td>938</td>\n",
              "      <td>938</td>\n",
              "      <td>648</td>\n",
              "      <td>648</td>\n",
              "    </tr>\n",
              "    <tr>\n",
              "      <th>unique</th>\n",
              "      <td>2</td>\n",
              "      <td>26</td>\n",
              "      <td>49</td>\n",
              "      <td>284</td>\n",
              "      <td>13</td>\n",
              "    </tr>\n",
              "    <tr>\n",
              "      <th>top</th>\n",
              "      <td>Registered</td>\n",
              "      <td>MD</td>\n",
              "      <td>SC</td>\n",
              "      <td>gmail.com</td>\n",
              "      <td>com</td>\n",
              "    </tr>\n",
              "    <tr>\n",
              "      <th>freq</th>\n",
              "      <td>500</td>\n",
              "      <td>285</td>\n",
              "      <td>163</td>\n",
              "      <td>210</td>\n",
              "      <td>477</td>\n",
              "    </tr>\n",
              "  </tbody>\n",
              "</table>\n",
              "</div>\n",
              "      <button class=\"colab-df-convert\" onclick=\"convertToInteractive('df-ad18cb84-f716-4ae5-b7e3-e4852039d329')\"\n",
              "              title=\"Convert this dataframe to an interactive table.\"\n",
              "              style=\"display:none;\">\n",
              "        \n",
              "  <svg xmlns=\"http://www.w3.org/2000/svg\" height=\"24px\"viewBox=\"0 0 24 24\"\n",
              "       width=\"24px\">\n",
              "    <path d=\"M0 0h24v24H0V0z\" fill=\"none\"/>\n",
              "    <path d=\"M18.56 5.44l.94 2.06.94-2.06 2.06-.94-2.06-.94-.94-2.06-.94 2.06-2.06.94zm-11 1L8.5 8.5l.94-2.06 2.06-.94-2.06-.94L8.5 2.5l-.94 2.06-2.06.94zm10 10l.94 2.06.94-2.06 2.06-.94-2.06-.94-.94-2.06-.94 2.06-2.06.94z\"/><path d=\"M17.41 7.96l-1.37-1.37c-.4-.4-.92-.59-1.43-.59-.52 0-1.04.2-1.43.59L10.3 9.45l-7.72 7.72c-.78.78-.78 2.05 0 2.83L4 21.41c.39.39.9.59 1.41.59.51 0 1.02-.2 1.41-.59l7.78-7.78 2.81-2.81c.8-.78.8-2.07 0-2.86zM5.41 20L4 18.59l7.72-7.72 1.47 1.35L5.41 20z\"/>\n",
              "  </svg>\n",
              "      </button>\n",
              "      \n",
              "  <style>\n",
              "    .colab-df-container {\n",
              "      display:flex;\n",
              "      flex-wrap:wrap;\n",
              "      gap: 12px;\n",
              "    }\n",
              "\n",
              "    .colab-df-convert {\n",
              "      background-color: #E8F0FE;\n",
              "      border: none;\n",
              "      border-radius: 50%;\n",
              "      cursor: pointer;\n",
              "      display: none;\n",
              "      fill: #1967D2;\n",
              "      height: 32px;\n",
              "      padding: 0 0 0 0;\n",
              "      width: 32px;\n",
              "    }\n",
              "\n",
              "    .colab-df-convert:hover {\n",
              "      background-color: #E2EBFA;\n",
              "      box-shadow: 0px 1px 2px rgba(60, 64, 67, 0.3), 0px 1px 3px 1px rgba(60, 64, 67, 0.15);\n",
              "      fill: #174EA6;\n",
              "    }\n",
              "\n",
              "    [theme=dark] .colab-df-convert {\n",
              "      background-color: #3B4455;\n",
              "      fill: #D2E3FC;\n",
              "    }\n",
              "\n",
              "    [theme=dark] .colab-df-convert:hover {\n",
              "      background-color: #434B5C;\n",
              "      box-shadow: 0px 1px 3px 1px rgba(0, 0, 0, 0.15);\n",
              "      filter: drop-shadow(0px 1px 2px rgba(0, 0, 0, 0.3));\n",
              "      fill: #FFFFFF;\n",
              "    }\n",
              "  </style>\n",
              "\n",
              "      <script>\n",
              "        const buttonEl =\n",
              "          document.querySelector('#df-ad18cb84-f716-4ae5-b7e3-e4852039d329 button.colab-df-convert');\n",
              "        buttonEl.style.display =\n",
              "          google.colab.kernel.accessAllowed ? 'block' : 'none';\n",
              "\n",
              "        async function convertToInteractive(key) {\n",
              "          const element = document.querySelector('#df-ad18cb84-f716-4ae5-b7e3-e4852039d329');\n",
              "          const dataTable =\n",
              "            await google.colab.kernel.invokeFunction('convertToInteractive',\n",
              "                                                     [key], {});\n",
              "          if (!dataTable) return;\n",
              "\n",
              "          const docLinkHtml = 'Like what you see? Visit the ' +\n",
              "            '<a target=\"_blank\" href=https://colab.research.google.com/notebooks/data_table.ipynb>data table notebook</a>'\n",
              "            + ' to learn more about interactive tables.';\n",
              "          element.innerHTML = '';\n",
              "          dataTable['output_type'] = 'display_data';\n",
              "          await google.colab.output.renderOutput(dataTable, element);\n",
              "          const docLink = document.createElement('div');\n",
              "          docLink.innerHTML = docLinkHtml;\n",
              "          element.appendChild(docLink);\n",
              "        }\n",
              "      </script>\n",
              "    </div>\n",
              "  </div>\n",
              "  "
            ]
          },
          "metadata": {},
          "execution_count": 6
        }
      ]
    },
    {
      "cell_type": "code",
      "source": [
        "# Check for class imbalance\n",
        "# None detected\n",
        "df['ProviderStatusGroup'].value_counts(dropna=False)"
      ],
      "metadata": {
        "colab": {
          "base_uri": "https://localhost:8080/"
        },
        "id": "dlFMFJnoPQM5",
        "outputId": "11093c3f-4bcf-46ef-da36-7f3a37e409ae"
      },
      "execution_count": 7,
      "outputs": [
        {
          "output_type": "execute_result",
          "data": {
            "text/plain": [
              "Registered      500\n",
              "Unregistered    500\n",
              "Name: ProviderStatusGroup, dtype: int64"
            ]
          },
          "metadata": {},
          "execution_count": 7
        }
      ]
    },
    {
      "cell_type": "code",
      "source": [
        "df.ProviderStatusGroup.value_counts().plot(kind='bar');"
      ],
      "metadata": {
        "colab": {
          "base_uri": "https://localhost:8080/",
          "height": 320
        },
        "id": "KnOC3684JmSG",
        "outputId": "93205957-4aee-4d40-935e-dec6cb4b393b"
      },
      "execution_count": 8,
      "outputs": [
        {
          "output_type": "display_data",
          "data": {
            "text/plain": [
              "<Figure size 432x288 with 1 Axes>"
            ],
            "image/png": "[encoded data removed]"
          },
          "metadata": {
            "needs_background": "light"
          }
        }
      ]
    },
    {
      "cell_type": "code",
      "source": [
        "# Review columns and values \n",
        "\n",
        "df['SanctionCount'].value_counts(dropna=False)"
      ],
      "metadata": {
        "colab": {
          "base_uri": "https://localhost:8080/"
        },
        "id": "yOmV8HoVPd6R",
        "outputId": "a241e4aa-2e64-413c-86b0-08ac82dc27fe"
      },
      "execution_count": 9,
      "outputs": [
        {
          "output_type": "execute_result",
          "data": {
            "text/plain": [
              "0    986\n",
              "1      6\n",
              "2      4\n",
              "3      2\n",
              "4      1\n",
              "6      1\n",
              "Name: SanctionCount, dtype: int64"
            ]
          },
          "metadata": {},
          "execution_count": 9
        }
      ]
    },
    {
      "cell_type": "code",
      "source": [
        "df['LocationCount'].value_counts (dropna=False)"
      ],
      "metadata": {
        "colab": {
          "base_uri": "https://localhost:8080/"
        },
        "id": "WrN5-oxAQrTz",
        "outputId": "35d44614-34db-4193-ea70-82eb4c9cbfb5"
      },
      "execution_count": 10,
      "outputs": [
        {
          "output_type": "execute_result",
          "data": {
            "text/plain": [
              "NaN     631\n",
              "1.0     221\n",
              "2.0      73\n",
              "5.0      15\n",
              "3.0      15\n",
              "4.0      15\n",
              "6.0       7\n",
              "9.0       4\n",
              "11.0      4\n",
              "19.0      3\n",
              "20.0      2\n",
              "10.0      2\n",
              "15.0      2\n",
              "7.0       1\n",
              "39.0      1\n",
              "12.0      1\n",
              "36.0      1\n",
              "18.0      1\n",
              "13.0      1\n",
              "Name: LocationCount, dtype: int64"
            ]
          },
          "metadata": {},
          "execution_count": 10
        }
      ]
    },
    {
      "cell_type": "code",
      "source": [
        "df['ProviderTypeIdName'].value_counts(dropna=False)"
      ],
      "metadata": {
        "colab": {
          "base_uri": "https://localhost:8080/"
        },
        "id": "tJX39MNwQr08",
        "outputId": "e5b2d1a7-9ac1-4419-b7e9-d7d6f2b162de"
      },
      "execution_count": 11,
      "outputs": [
        {
          "output_type": "execute_result",
          "data": {
            "text/plain": [
              "MD       285\n",
              "NP       106\n",
              "PA        63\n",
              "NaN       62\n",
              "PT        54\n",
              "PC        52\n",
              "DDS       41\n",
              "CSW       40\n",
              "DO        32\n",
              "MFT       32\n",
              "CRNA      29\n",
              "APN       29\n",
              "Other     26\n",
              "SLP       25\n",
              "DMD       24\n",
              "OT        23\n",
              "PTNL      13\n",
              "ABA       12\n",
              "CP         9\n",
              "DC         9\n",
              "ACU        9\n",
              "ADC        8\n",
              "OD         7\n",
              "DT         6\n",
              "AUD        2\n",
              "DPM        1\n",
              "NMW        1\n",
              "Name: ProviderTypeIdName, dtype: int64"
            ]
          },
          "metadata": {},
          "execution_count": 11
        }
      ]
    },
    {
      "cell_type": "code",
      "source": [
        "df['PrimaryPracticeStateIdName'].value_counts(dropna=False)"
      ],
      "metadata": {
        "colab": {
          "base_uri": "https://localhost:8080/"
        },
        "id": "19lAmaSAVG1G",
        "outputId": "d37a541d-a5d9-404e-9918-ee142620701e"
      },
      "execution_count": 12,
      "outputs": [
        {
          "output_type": "execute_result",
          "data": {
            "text/plain": [
              "SC       163\n",
              "CA       136\n",
              "GA        69\n",
              "NaN       62\n",
              "CT        58\n",
              "TX        49\n",
              "NY        49\n",
              "CO        48\n",
              "VA        37\n",
              "WI        32\n",
              "FL        30\n",
              "OH        29\n",
              "IN        23\n",
              "NV        21\n",
              "WA        20\n",
              "AR        15\n",
              "MO        11\n",
              "MN        11\n",
              "WV        10\n",
              "KY        10\n",
              "IA         9\n",
              "MD         9\n",
              "OR         9\n",
              "ME         9\n",
              "IL         8\n",
              "NJ         8\n",
              "MA         6\n",
              "NC         6\n",
              "NH         6\n",
              "DC         5\n",
              "AZ         5\n",
              "NM         4\n",
              "TN         4\n",
              "NE         3\n",
              "LA         3\n",
              "VT         3\n",
              "PA         3\n",
              "SD         2\n",
              "MI         2\n",
              "HI         2\n",
              "UT         2\n",
              "KS         1\n",
              "DE         1\n",
              "OK         1\n",
              "ND         1\n",
              "MT         1\n",
              "ID         1\n",
              "WY         1\n",
              "AL         1\n",
              "Other      1\n",
              "Name: PrimaryPracticeStateIdName, dtype: int64"
            ]
          },
          "metadata": {},
          "execution_count": 12
        }
      ]
    },
    {
      "cell_type": "code",
      "source": [
        "df['Email1Domain'].value_counts(dropna=False)"
      ],
      "metadata": {
        "colab": {
          "base_uri": "https://localhost:8080/"
        },
        "id": "ioq97ZK3QsXp",
        "outputId": "6ea1b893-44c4-4ef3-b5ae-631529a6f87a"
      },
      "execution_count": 13,
      "outputs": [
        {
          "output_type": "execute_result",
          "data": {
            "text/plain": [
              "NaN                             352\n",
              "gmail.com                       210\n",
              "yahoo.com                        45\n",
              "hotmail.com                      17\n",
              "aol.com                          12\n",
              "                               ... \n",
              "apexeducationalsolutions.com      1\n",
              "interlockingconnections.com       1\n",
              "superiortreatmentcenter.org       1\n",
              "uky.edu                           1\n",
              "devrehabpt2.com                   1\n",
              "Name: Email1Domain, Length: 285, dtype: int64"
            ]
          },
          "metadata": {},
          "execution_count": 13
        }
      ]
    },
    {
      "cell_type": "code",
      "source": [
        "df['Email1Root'].value_counts(dropna=False)"
      ],
      "metadata": {
        "colab": {
          "base_uri": "https://localhost:8080/"
        },
        "id": "K6UYAQowQvwy",
        "outputId": "0564ee3b-2cbb-4256-cf6b-d338a5de410e"
      },
      "execution_count": 14,
      "outputs": [
        {
          "output_type": "execute_result",
          "data": {
            "text/plain": [
              "com           477\n",
              "NaN           352\n",
              "org            93\n",
              "net            33\n",
              "edu            21\n",
              "COM            11\n",
              "us              4\n",
              "pro             2\n",
              "ORG             2\n",
              "co              1\n",
              "gov             1\n",
              "health          1\n",
              "EDU             1\n",
              "healthcare      1\n",
              "Name: Email1Root, dtype: int64"
            ]
          },
          "metadata": {},
          "execution_count": 14
        }
      ]
    },
    {
      "cell_type": "code",
      "source": [
        "df['Email1AddressBounced'].value_counts(dropna=False)"
      ],
      "metadata": {
        "colab": {
          "base_uri": "https://localhost:8080/"
        },
        "id": "b0eB1l5_QvoI",
        "outputId": "d1e985cd-c808-4a79-d0d7-da2dce8536cb"
      },
      "execution_count": 15,
      "outputs": [
        {
          "output_type": "execute_result",
          "data": {
            "text/plain": [
              "0.0    595\n",
              "NaN    352\n",
              "1.0     53\n",
              "Name: Email1AddressBounced, dtype: int64"
            ]
          },
          "metadata": {},
          "execution_count": 15
        }
      ]
    },
    {
      "cell_type": "code",
      "source": [
        "df['PracticeStateCount'].value_counts(dropna=False)"
      ],
      "metadata": {
        "colab": {
          "base_uri": "https://localhost:8080/"
        },
        "id": "RRd0l9xZQvg3",
        "outputId": "e89a0f82-4487-4fb8-b5d4-a0bc54c6cec1"
      },
      "execution_count": 16,
      "outputs": [
        {
          "output_type": "execute_result",
          "data": {
            "text/plain": [
              "NaN     631\n",
              "1.0     221\n",
              "2.0      73\n",
              "5.0      15\n",
              "3.0      15\n",
              "4.0      15\n",
              "6.0       7\n",
              "9.0       4\n",
              "11.0      4\n",
              "19.0      3\n",
              "20.0      2\n",
              "10.0      2\n",
              "15.0      2\n",
              "7.0       1\n",
              "39.0      1\n",
              "12.0      1\n",
              "36.0      1\n",
              "18.0      1\n",
              "13.0      1\n",
              "Name: PracticeStateCount, dtype: int64"
            ]
          },
          "metadata": {},
          "execution_count": 16
        }
      ]
    },
    {
      "cell_type": "code",
      "source": [
        "df['ProviderAgeNearestDecade'].value_counts(dropna=False)"
      ],
      "metadata": {
        "colab": {
          "base_uri": "https://localhost:8080/"
        },
        "id": "0KoQSauCQvKu",
        "outputId": "b0545379-8669-4bc6-d5cf-37a49189395b"
      },
      "execution_count": 17,
      "outputs": [
        {
          "output_type": "execute_result",
          "data": {
            "text/plain": [
              "40.0    346\n",
              "30.0    250\n",
              "50.0    177\n",
              "60.0    109\n",
              "70.0     49\n",
              "20.0     39\n",
              "NaN      17\n",
              "80.0     13\n",
              "Name: ProviderAgeNearestDecade, dtype: int64"
            ]
          },
          "metadata": {},
          "execution_count": 17
        }
      ]
    },
    {
      "cell_type": "code",
      "source": [
        "pd.crosstab(df['ProviderStatusGroup'], df['Email1AddressBounced'], dropna=False)"
      ],
      "metadata": {
        "colab": {
          "base_uri": "https://localhost:8080/",
          "height": 143
        },
        "id": "x7TtLT9MUyxP",
        "outputId": "48e46ed2-891e-482e-f2e0-99caee81facf"
      },
      "execution_count": 18,
      "outputs": [
        {
          "output_type": "execute_result",
          "data": {
            "text/plain": [
              "Email1AddressBounced  0.0  1.0\n",
              "ProviderStatusGroup           \n",
              "Registered            454   41\n",
              "Unregistered          141   12"
            ],
            "text/html": [
              "\n",
              "  <div id=\"df-923d2f5e-a4cb-43c5-9978-4eccb9b4c89a\">\n",
              "    <div class=\"colab-df-container\">\n",
              "      <div>\n",
              "<style scoped>\n",
              "    .dataframe tbody tr th:only-of-type {\n",
              "        vertical-align: middle;\n",
              "    }\n",
              "\n",
              "    .dataframe tbody tr th {\n",
              "        vertical-align: top;\n",
              "    }\n",
              "\n",
              "    .dataframe thead th {\n",
              "        text-align: right;\n",
              "    }\n",
              "</style>\n",
              "<table border=\"1\" class=\"dataframe\">\n",
              "  <thead>\n",
              "    <tr style=\"text-align: right;\">\n",
              "      <th>Email1AddressBounced</th>\n",
              "      <th>0.0</th>\n",
              "      <th>1.0</th>\n",
              "    </tr>\n",
              "    <tr>\n",
              "      <th>ProviderStatusGroup</th>\n",
              "      <th></th>\n",
              "      <th></th>\n",
              "    </tr>\n",
              "  </thead>\n",
              "  <tbody>\n",
              "    <tr>\n",
              "      <th>Registered</th>\n",
              "      <td>454</td>\n",
              "      <td>41</td>\n",
              "    </tr>\n",
              "    <tr>\n",
              "      <th>Unregistered</th>\n",
              "      <td>141</td>\n",
              "      <td>12</td>\n",
              "    </tr>\n",
              "  </tbody>\n",
              "</table>\n",
              "</div>\n",
              "      <button class=\"colab-df-convert\" onclick=\"convertToInteractive('df-923d2f5e-a4cb-43c5-9978-4eccb9b4c89a')\"\n",
              "              title=\"Convert this dataframe to an interactive table.\"\n",
              "              style=\"display:none;\">\n",
              "        \n",
              "  <svg xmlns=\"http://www.w3.org/2000/svg\" height=\"24px\"viewBox=\"0 0 24 24\"\n",
              "       width=\"24px\">\n",
              "    <path d=\"M0 0h24v24H0V0z\" fill=\"none\"/>\n",
              "    <path d=\"M18.56 5.44l.94 2.06.94-2.06 2.06-.94-2.06-.94-.94-2.06-.94 2.06-2.06.94zm-11 1L8.5 8.5l.94-2.06 2.06-.94-2.06-.94L8.5 2.5l-.94 2.06-2.06.94zm10 10l.94 2.06.94-2.06 2.06-.94-2.06-.94-.94-2.06-.94 2.06-2.06.94z\"/><path d=\"M17.41 7.96l-1.37-1.37c-.4-.4-.92-.59-1.43-.59-.52 0-1.04.2-1.43.59L10.3 9.45l-7.72 7.72c-.78.78-.78 2.05 0 2.83L4 21.41c.39.39.9.59 1.41.59.51 0 1.02-.2 1.41-.59l7.78-7.78 2.81-2.81c.8-.78.8-2.07 0-2.86zM5.41 20L4 18.59l7.72-7.72 1.47 1.35L5.41 20z\"/>\n",
              "  </svg>\n",
              "      </button>\n",
              "      \n",
              "  <style>\n",
              "    .colab-df-container {\n",
              "      display:flex;\n",
              "      flex-wrap:wrap;\n",
              "      gap: 12px;\n",
              "    }\n",
              "\n",
              "    .colab-df-convert {\n",
              "      background-color: #E8F0FE;\n",
              "      border: none;\n",
              "      border-radius: 50%;\n",
              "      cursor: pointer;\n",
              "      display: none;\n",
              "      fill: #1967D2;\n",
              "      height: 32px;\n",
              "      padding: 0 0 0 0;\n",
              "      width: 32px;\n",
              "    }\n",
              "\n",
              "    .colab-df-convert:hover {\n",
              "      background-color: #E2EBFA;\n",
              "      box-shadow: 0px 1px 2px rgba(60, 64, 67, 0.3), 0px 1px 3px 1px rgba(60, 64, 67, 0.15);\n",
              "      fill: #174EA6;\n",
              "    }\n",
              "\n",
              "    [theme=dark] .colab-df-convert {\n",
              "      background-color: #3B4455;\n",
              "      fill: #D2E3FC;\n",
              "    }\n",
              "\n",
              "    [theme=dark] .colab-df-convert:hover {\n",
              "      background-color: #434B5C;\n",
              "      box-shadow: 0px 1px 3px 1px rgba(0, 0, 0, 0.15);\n",
              "      filter: drop-shadow(0px 1px 2px rgba(0, 0, 0, 0.3));\n",
              "      fill: #FFFFFF;\n",
              "    }\n",
              "  </style>\n",
              "\n",
              "      <script>\n",
              "        const buttonEl =\n",
              "          document.querySelector('#df-923d2f5e-a4cb-43c5-9978-4eccb9b4c89a button.colab-df-convert');\n",
              "        buttonEl.style.display =\n",
              "          google.colab.kernel.accessAllowed ? 'block' : 'none';\n",
              "\n",
              "        async function convertToInteractive(key) {\n",
              "          const element = document.querySelector('#df-923d2f5e-a4cb-43c5-9978-4eccb9b4c89a');\n",
              "          const dataTable =\n",
              "            await google.colab.kernel.invokeFunction('convertToInteractive',\n",
              "                                                     [key], {});\n",
              "          if (!dataTable) return;\n",
              "\n",
              "          const docLinkHtml = 'Like what you see? Visit the ' +\n",
              "            '<a target=\"_blank\" href=https://colab.research.google.com/notebooks/data_table.ipynb>data table notebook</a>'\n",
              "            + ' to learn more about interactive tables.';\n",
              "          element.innerHTML = '';\n",
              "          dataTable['output_type'] = 'display_data';\n",
              "          await google.colab.output.renderOutput(dataTable, element);\n",
              "          const docLink = document.createElement('div');\n",
              "          docLink.innerHTML = docLinkHtml;\n",
              "          element.appendChild(docLink);\n",
              "        }\n",
              "      </script>\n",
              "    </div>\n",
              "  </div>\n",
              "  "
            ]
          },
          "metadata": {},
          "execution_count": 18
        }
      ]
    },
    {
      "cell_type": "code",
      "source": [
        "pd.crosstab(df['ProviderStatusGroup'], df['Email1Root'], dropna=False)"
      ],
      "metadata": {
        "colab": {
          "base_uri": "https://localhost:8080/",
          "height": 143
        },
        "id": "LfCgPjs-VOqu",
        "outputId": "195e5831-d158-4cb6-caae-c7479d2f0de9"
      },
      "execution_count": 19,
      "outputs": [
        {
          "output_type": "execute_result",
          "data": {
            "text/plain": [
              "Email1Root           COM  EDU  ORG  co  com  edu  gov  health  healthcare  \\\n",
              "ProviderStatusGroup                                                         \n",
              "Registered             3    1    0   1  368   17    1       1           0   \n",
              "Unregistered           8    0    2   0  109    4    0       0           1   \n",
              "\n",
              "Email1Root           net  org  pro  us  \n",
              "ProviderStatusGroup                     \n",
              "Registered            27   72    1   3  \n",
              "Unregistered           6   21    1   1  "
            ],
            "text/html": [
              "\n",
              "  <div id=\"df-2f36d113-a921-45fb-993a-3f971d9bd12c\">\n",
              "    <div class=\"colab-df-container\">\n",
              "      <div>\n",
              "<style scoped>\n",
              "    .dataframe tbody tr th:only-of-type {\n",
              "        vertical-align: middle;\n",
              "    }\n",
              "\n",
              "    .dataframe tbody tr th {\n",
              "        vertical-align: top;\n",
              "    }\n",
              "\n",
              "    .dataframe thead th {\n",
              "        text-align: right;\n",
              "    }\n",
              "</style>\n",
              "<table border=\"1\" class=\"dataframe\">\n",
              "  <thead>\n",
              "    <tr style=\"text-align: right;\">\n",
              "      <th>Email1Root</th>\n",
              "      <th>COM</th>\n",
              "      <th>EDU</th>\n",
              "      <th>ORG</th>\n",
              "      <th>co</th>\n",
              "      <th>com</th>\n",
              "      <th>edu</th>\n",
              "      <th>gov</th>\n",
              "      <th>health</th>\n",
              "      <th>healthcare</th>\n",
              "      <th>net</th>\n",
              "      <th>org</th>\n",
              "      <th>pro</th>\n",
              "      <th>us</th>\n",
              "    </tr>\n",
              "    <tr>\n",
              "      <th>ProviderStatusGroup</th>\n",
              "      <th></th>\n",
              "      <th></th>\n",
              "      <th></th>\n",
              "      <th></th>\n",
              "      <th></th>\n",
              "      <th></th>\n",
              "      <th></th>\n",
              "      <th></th>\n",
              "      <th></th>\n",
              "      <th></th>\n",
              "      <th></th>\n",
              "      <th></th>\n",
              "      <th></th>\n",
              "    </tr>\n",
              "  </thead>\n",
              "  <tbody>\n",
              "    <tr>\n",
              "      <th>Registered</th>\n",
              "      <td>3</td>\n",
              "      <td>1</td>\n",
              "      <td>0</td>\n",
              "      <td>1</td>\n",
              "      <td>368</td>\n",
              "      <td>17</td>\n",
              "      <td>1</td>\n",
              "      <td>1</td>\n",
              "      <td>0</td>\n",
              "      <td>27</td>\n",
              "      <td>72</td>\n",
              "      <td>1</td>\n",
              "      <td>3</td>\n",
              "    </tr>\n",
              "    <tr>\n",
              "      <th>Unregistered</th>\n",
              "      <td>8</td>\n",
              "      <td>0</td>\n",
              "      <td>2</td>\n",
              "      <td>0</td>\n",
              "      <td>109</td>\n",
              "      <td>4</td>\n",
              "      <td>0</td>\n",
              "      <td>0</td>\n",
              "      <td>1</td>\n",
              "      <td>6</td>\n",
              "      <td>21</td>\n",
              "      <td>1</td>\n",
              "      <td>1</td>\n",
              "    </tr>\n",
              "  </tbody>\n",
              "</table>\n",
              "</div>\n",
              "      <button class=\"colab-df-convert\" onclick=\"convertToInteractive('df-2f36d113-a921-45fb-993a-3f971d9bd12c')\"\n",
              "              title=\"Convert this dataframe to an interactive table.\"\n",
              "              style=\"display:none;\">\n",
              "        \n",
              "  <svg xmlns=\"http://www.w3.org/2000/svg\" height=\"24px\"viewBox=\"0 0 24 24\"\n",
              "       width=\"24px\">\n",
              "    <path d=\"M0 0h24v24H0V0z\" fill=\"none\"/>\n",
              "    <path d=\"M18.56 5.44l.94 2.06.94-2.06 2.06-.94-2.06-.94-.94-2.06-.94 2.06-2.06.94zm-11 1L8.5 8.5l.94-2.06 2.06-.94-2.06-.94L8.5 2.5l-.94 2.06-2.06.94zm10 10l.94 2.06.94-2.06 2.06-.94-2.06-.94-.94-2.06-.94 2.06-2.06.94z\"/><path d=\"M17.41 7.96l-1.37-1.37c-.4-.4-.92-.59-1.43-.59-.52 0-1.04.2-1.43.59L10.3 9.45l-7.72 7.72c-.78.78-.78 2.05 0 2.83L4 21.41c.39.39.9.59 1.41.59.51 0 1.02-.2 1.41-.59l7.78-7.78 2.81-2.81c.8-.78.8-2.07 0-2.86zM5.41 20L4 18.59l7.72-7.72 1.47 1.35L5.41 20z\"/>\n",
              "  </svg>\n",
              "      </button>\n",
              "      \n",
              "  <style>\n",
              "    .colab-df-container {\n",
              "      display:flex;\n",
              "      flex-wrap:wrap;\n",
              "      gap: 12px;\n",
              "    }\n",
              "\n",
              "    .colab-df-convert {\n",
              "      background-color: #E8F0FE;\n",
              "      border: none;\n",
              "      border-radius: 50%;\n",
              "      cursor: pointer;\n",
              "      display: none;\n",
              "      fill: #1967D2;\n",
              "      height: 32px;\n",
              "      padding: 0 0 0 0;\n",
              "      width: 32px;\n",
              "    }\n",
              "\n",
              "    .colab-df-convert:hover {\n",
              "      background-color: #E2EBFA;\n",
              "      box-shadow: 0px 1px 2px rgba(60, 64, 67, 0.3), 0px 1px 3px 1px rgba(60, 64, 67, 0.15);\n",
              "      fill: #174EA6;\n",
              "    }\n",
              "\n",
              "    [theme=dark] .colab-df-convert {\n",
              "      background-color: #3B4455;\n",
              "      fill: #D2E3FC;\n",
              "    }\n",
              "\n",
              "    [theme=dark] .colab-df-convert:hover {\n",
              "      background-color: #434B5C;\n",
              "      box-shadow: 0px 1px 3px 1px rgba(0, 0, 0, 0.15);\n",
              "      filter: drop-shadow(0px 1px 2px rgba(0, 0, 0, 0.3));\n",
              "      fill: #FFFFFF;\n",
              "    }\n",
              "  </style>\n",
              "\n",
              "      <script>\n",
              "        const buttonEl =\n",
              "          document.querySelector('#df-2f36d113-a921-45fb-993a-3f971d9bd12c button.colab-df-convert');\n",
              "        buttonEl.style.display =\n",
              "          google.colab.kernel.accessAllowed ? 'block' : 'none';\n",
              "\n",
              "        async function convertToInteractive(key) {\n",
              "          const element = document.querySelector('#df-2f36d113-a921-45fb-993a-3f971d9bd12c');\n",
              "          const dataTable =\n",
              "            await google.colab.kernel.invokeFunction('convertToInteractive',\n",
              "                                                     [key], {});\n",
              "          if (!dataTable) return;\n",
              "\n",
              "          const docLinkHtml = 'Like what you see? Visit the ' +\n",
              "            '<a target=\"_blank\" href=https://colab.research.google.com/notebooks/data_table.ipynb>data table notebook</a>'\n",
              "            + ' to learn more about interactive tables.';\n",
              "          element.innerHTML = '';\n",
              "          dataTable['output_type'] = 'display_data';\n",
              "          await google.colab.output.renderOutput(dataTable, element);\n",
              "          const docLink = document.createElement('div');\n",
              "          docLink.innerHTML = docLinkHtml;\n",
              "          element.appendChild(docLink);\n",
              "        }\n",
              "      </script>\n",
              "    </div>\n",
              "  </div>\n",
              "  "
            ]
          },
          "metadata": {},
          "execution_count": 19
        }
      ]
    },
    {
      "cell_type": "code",
      "source": [
        "pd.set_option('display.max_columns', None)\n",
        "pd.crosstab(df['ProviderStatusGroup'], df['ProviderTypeIdName'], dropna=False)"
      ],
      "metadata": {
        "colab": {
          "base_uri": "https://localhost:8080/",
          "height": 207
        },
        "id": "DTqTiQqherY8",
        "outputId": "c979dd62-aba1-408a-f8ff-435bc29bcaac"
      },
      "execution_count": 20,
      "outputs": [
        {
          "output_type": "execute_result",
          "data": {
            "text/plain": [
              "ProviderTypeIdName   ABA  ACU  ADC  APN  AUD  CP  CRNA  CSW  DC  DDS  DMD  DO  \\\n",
              "ProviderStatusGroup                                                             \n",
              "Registered            11    8    5   17    1   7    16   34   4   10   12  16   \n",
              "Unregistered           1    1    3   12    1   2    13    6   5   31   12  16   \n",
              "\n",
              "ProviderTypeIdName   DPM  DT   MD  MFT  NMW  NP  OD  OT  Other  PA  PC  PT  \\\n",
              "ProviderStatusGroup                                                          \n",
              "Registered             1   1  110   29    1  55   7  17      3  25  48  41   \n",
              "Unregistered           0   5  175    3    0  51   0   6     23  38   4  13   \n",
              "\n",
              "ProviderTypeIdName   PTNL  SLP  \n",
              "ProviderStatusGroup             \n",
              "Registered              4   17  \n",
              "Unregistered            9    8  "
            ],
            "text/html": [
              "\n",
              "  <div id=\"df-51d75cd0-1886-4a22-a49f-562a8799d80b\">\n",
              "    <div class=\"colab-df-container\">\n",
              "      <div>\n",
              "<style scoped>\n",
              "    .dataframe tbody tr th:only-of-type {\n",
              "        vertical-align: middle;\n",
              "    }\n",
              "\n",
              "    .dataframe tbody tr th {\n",
              "        vertical-align: top;\n",
              "    }\n",
              "\n",
              "    .dataframe thead th {\n",
              "        text-align: right;\n",
              "    }\n",
              "</style>\n",
              "<table border=\"1\" class=\"dataframe\">\n",
              "  <thead>\n",
              "    <tr style=\"text-align: right;\">\n",
              "      <th>ProviderTypeIdName</th>\n",
              "      <th>ABA</th>\n",
              "      <th>ACU</th>\n",
              "      <th>ADC</th>\n",
              "      <th>APN</th>\n",
              "      <th>AUD</th>\n",
              "      <th>CP</th>\n",
              "      <th>CRNA</th>\n",
              "      <th>CSW</th>\n",
              "      <th>DC</th>\n",
              "      <th>DDS</th>\n",
              "      <th>DMD</th>\n",
              "      <th>DO</th>\n",
              "      <th>DPM</th>\n",
              "      <th>DT</th>\n",
              "      <th>MD</th>\n",
              "      <th>MFT</th>\n",
              "      <th>NMW</th>\n",
              "      <th>NP</th>\n",
              "      <th>OD</th>\n",
              "      <th>OT</th>\n",
              "      <th>Other</th>\n",
              "      <th>PA</th>\n",
              "      <th>PC</th>\n",
              "      <th>PT</th>\n",
              "      <th>PTNL</th>\n",
              "      <th>SLP</th>\n",
              "    </tr>\n",
              "    <tr>\n",
              "      <th>ProviderStatusGroup</th>\n",
              "      <th></th>\n",
              "      <th></th>\n",
              "      <th></th>\n",
              "      <th></th>\n",
              "      <th></th>\n",
              "      <th></th>\n",
              "      <th></th>\n",
              "      <th></th>\n",
              "      <th></th>\n",
              "      <th></th>\n",
              "      <th></th>\n",
              "      <th></th>\n",
              "      <th></th>\n",
              "      <th></th>\n",
              "      <th></th>\n",
              "      <th></th>\n",
              "      <th></th>\n",
              "      <th></th>\n",
              "      <th></th>\n",
              "      <th></th>\n",
              "      <th></th>\n",
              "      <th></th>\n",
              "      <th></th>\n",
              "      <th></th>\n",
              "      <th></th>\n",
              "      <th></th>\n",
              "    </tr>\n",
              "  </thead>\n",
              "  <tbody>\n",
              "    <tr>\n",
              "      <th>Registered</th>\n",
              "      <td>11</td>\n",
              "      <td>8</td>\n",
              "      <td>5</td>\n",
              "      <td>17</td>\n",
              "      <td>1</td>\n",
              "      <td>7</td>\n",
              "      <td>16</td>\n",
              "      <td>34</td>\n",
              "      <td>4</td>\n",
              "      <td>10</td>\n",
              "      <td>12</td>\n",
              "      <td>16</td>\n",
              "      <td>1</td>\n",
              "      <td>1</td>\n",
              "      <td>110</td>\n",
              "      <td>29</td>\n",
              "      <td>1</td>\n",
              "      <td>55</td>\n",
              "      <td>7</td>\n",
              "      <td>17</td>\n",
              "      <td>3</td>\n",
              "      <td>25</td>\n",
              "      <td>48</td>\n",
              "      <td>41</td>\n",
              "      <td>4</td>\n",
              "      <td>17</td>\n",
              "    </tr>\n",
              "    <tr>\n",
              "      <th>Unregistered</th>\n",
              "      <td>1</td>\n",
              "      <td>1</td>\n",
              "      <td>3</td>\n",
              "      <td>12</td>\n",
              "      <td>1</td>\n",
              "      <td>2</td>\n",
              "      <td>13</td>\n",
              "      <td>6</td>\n",
              "      <td>5</td>\n",
              "      <td>31</td>\n",
              "      <td>12</td>\n",
              "      <td>16</td>\n",
              "      <td>0</td>\n",
              "      <td>5</td>\n",
              "      <td>175</td>\n",
              "      <td>3</td>\n",
              "      <td>0</td>\n",
              "      <td>51</td>\n",
              "      <td>0</td>\n",
              "      <td>6</td>\n",
              "      <td>23</td>\n",
              "      <td>38</td>\n",
              "      <td>4</td>\n",
              "      <td>13</td>\n",
              "      <td>9</td>\n",
              "      <td>8</td>\n",
              "    </tr>\n",
              "  </tbody>\n",
              "</table>\n",
              "</div>\n",
              "      <button class=\"colab-df-convert\" onclick=\"convertToInteractive('df-51d75cd0-1886-4a22-a49f-562a8799d80b')\"\n",
              "              title=\"Convert this dataframe to an interactive table.\"\n",
              "              style=\"display:none;\">\n",
              "        \n",
              "  <svg xmlns=\"http://www.w3.org/2000/svg\" height=\"24px\"viewBox=\"0 0 24 24\"\n",
              "       width=\"24px\">\n",
              "    <path d=\"M0 0h24v24H0V0z\" fill=\"none\"/>\n",
              "    <path d=\"M18.56 5.44l.94 2.06.94-2.06 2.06-.94-2.06-.94-.94-2.06-.94 2.06-2.06.94zm-11 1L8.5 8.5l.94-2.06 2.06-.94-2.06-.94L8.5 2.5l-.94 2.06-2.06.94zm10 10l.94 2.06.94-2.06 2.06-.94-2.06-.94-.94-2.06-.94 2.06-2.06.94z\"/><path d=\"M17.41 7.96l-1.37-1.37c-.4-.4-.92-.59-1.43-.59-.52 0-1.04.2-1.43.59L10.3 9.45l-7.72 7.72c-.78.78-.78 2.05 0 2.83L4 21.41c.39.39.9.59 1.41.59.51 0 1.02-.2 1.41-.59l7.78-7.78 2.81-2.81c.8-.78.8-2.07 0-2.86zM5.41 20L4 18.59l7.72-7.72 1.47 1.35L5.41 20z\"/>\n",
              "  </svg>\n",
              "      </button>\n",
              "      \n",
              "  <style>\n",
              "    .colab-df-container {\n",
              "      display:flex;\n",
              "      flex-wrap:wrap;\n",
              "      gap: 12px;\n",
              "    }\n",
              "\n",
              "    .colab-df-convert {\n",
              "      background-color: #E8F0FE;\n",
              "      border: none;\n",
              "      border-radius: 50%;\n",
              "      cursor: pointer;\n",
              "      display: none;\n",
              "      fill: #1967D2;\n",
              "      height: 32px;\n",
              "      padding: 0 0 0 0;\n",
              "      width: 32px;\n",
              "    }\n",
              "\n",
              "    .colab-df-convert:hover {\n",
              "      background-color: #E2EBFA;\n",
              "      box-shadow: 0px 1px 2px rgba(60, 64, 67, 0.3), 0px 1px 3px 1px rgba(60, 64, 67, 0.15);\n",
              "      fill: #174EA6;\n",
              "    }\n",
              "\n",
              "    [theme=dark] .colab-df-convert {\n",
              "      background-color: #3B4455;\n",
              "      fill: #D2E3FC;\n",
              "    }\n",
              "\n",
              "    [theme=dark] .colab-df-convert:hover {\n",
              "      background-color: #434B5C;\n",
              "      box-shadow: 0px 1px 3px 1px rgba(0, 0, 0, 0.15);\n",
              "      filter: drop-shadow(0px 1px 2px rgba(0, 0, 0, 0.3));\n",
              "      fill: #FFFFFF;\n",
              "    }\n",
              "  </style>\n",
              "\n",
              "      <script>\n",
              "        const buttonEl =\n",
              "          document.querySelector('#df-51d75cd0-1886-4a22-a49f-562a8799d80b button.colab-df-convert');\n",
              "        buttonEl.style.display =\n",
              "          google.colab.kernel.accessAllowed ? 'block' : 'none';\n",
              "\n",
              "        async function convertToInteractive(key) {\n",
              "          const element = document.querySelector('#df-51d75cd0-1886-4a22-a49f-562a8799d80b');\n",
              "          const dataTable =\n",
              "            await google.colab.kernel.invokeFunction('convertToInteractive',\n",
              "                                                     [key], {});\n",
              "          if (!dataTable) return;\n",
              "\n",
              "          const docLinkHtml = 'Like what you see? Visit the ' +\n",
              "            '<a target=\"_blank\" href=https://colab.research.google.com/notebooks/data_table.ipynb>data table notebook</a>'\n",
              "            + ' to learn more about interactive tables.';\n",
              "          element.innerHTML = '';\n",
              "          dataTable['output_type'] = 'display_data';\n",
              "          await google.colab.output.renderOutput(dataTable, element);\n",
              "          const docLink = document.createElement('div');\n",
              "          docLink.innerHTML = docLinkHtml;\n",
              "          element.appendChild(docLink);\n",
              "        }\n",
              "      </script>\n",
              "    </div>\n",
              "  </div>\n",
              "  "
            ]
          },
          "metadata": {},
          "execution_count": 20
        }
      ]
    },
    {
      "cell_type": "code",
      "source": [
        "pd.crosstab(df['ProviderStatusGroup'], df['Email1Root'], dropna=False)"
      ],
      "metadata": {
        "colab": {
          "base_uri": "https://localhost:8080/",
          "height": 143
        },
        "id": "Oi4AXtzbnvIV",
        "outputId": "84346dc3-04b9-4aec-a1e1-ed831d37c221"
      },
      "execution_count": 21,
      "outputs": [
        {
          "output_type": "execute_result",
          "data": {
            "text/plain": [
              "Email1Root           COM  EDU  ORG  co  com  edu  gov  health  healthcare  \\\n",
              "ProviderStatusGroup                                                         \n",
              "Registered             3    1    0   1  368   17    1       1           0   \n",
              "Unregistered           8    0    2   0  109    4    0       0           1   \n",
              "\n",
              "Email1Root           net  org  pro  us  \n",
              "ProviderStatusGroup                     \n",
              "Registered            27   72    1   3  \n",
              "Unregistered           6   21    1   1  "
            ],
            "text/html": [
              "\n",
              "  <div id=\"df-72816807-0ea5-4198-a534-d164fb679aa4\">\n",
              "    <div class=\"colab-df-container\">\n",
              "      <div>\n",
              "<style scoped>\n",
              "    .dataframe tbody tr th:only-of-type {\n",
              "        vertical-align: middle;\n",
              "    }\n",
              "\n",
              "    .dataframe tbody tr th {\n",
              "        vertical-align: top;\n",
              "    }\n",
              "\n",
              "    .dataframe thead th {\n",
              "        text-align: right;\n",
              "    }\n",
              "</style>\n",
              "<table border=\"1\" class=\"dataframe\">\n",
              "  <thead>\n",
              "    <tr style=\"text-align: right;\">\n",
              "      <th>Email1Root</th>\n",
              "      <th>COM</th>\n",
              "      <th>EDU</th>\n",
              "      <th>ORG</th>\n",
              "      <th>co</th>\n",
              "      <th>com</th>\n",
              "      <th>edu</th>\n",
              "      <th>gov</th>\n",
              "      <th>health</th>\n",
              "      <th>healthcare</th>\n",
              "      <th>net</th>\n",
              "      <th>org</th>\n",
              "      <th>pro</th>\n",
              "      <th>us</th>\n",
              "    </tr>\n",
              "    <tr>\n",
              "      <th>ProviderStatusGroup</th>\n",
              "      <th></th>\n",
              "      <th></th>\n",
              "      <th></th>\n",
              "      <th></th>\n",
              "      <th></th>\n",
              "      <th></th>\n",
              "      <th></th>\n",
              "      <th></th>\n",
              "      <th></th>\n",
              "      <th></th>\n",
              "      <th></th>\n",
              "      <th></th>\n",
              "      <th></th>\n",
              "    </tr>\n",
              "  </thead>\n",
              "  <tbody>\n",
              "    <tr>\n",
              "      <th>Registered</th>\n",
              "      <td>3</td>\n",
              "      <td>1</td>\n",
              "      <td>0</td>\n",
              "      <td>1</td>\n",
              "      <td>368</td>\n",
              "      <td>17</td>\n",
              "      <td>1</td>\n",
              "      <td>1</td>\n",
              "      <td>0</td>\n",
              "      <td>27</td>\n",
              "      <td>72</td>\n",
              "      <td>1</td>\n",
              "      <td>3</td>\n",
              "    </tr>\n",
              "    <tr>\n",
              "      <th>Unregistered</th>\n",
              "      <td>8</td>\n",
              "      <td>0</td>\n",
              "      <td>2</td>\n",
              "      <td>0</td>\n",
              "      <td>109</td>\n",
              "      <td>4</td>\n",
              "      <td>0</td>\n",
              "      <td>0</td>\n",
              "      <td>1</td>\n",
              "      <td>6</td>\n",
              "      <td>21</td>\n",
              "      <td>1</td>\n",
              "      <td>1</td>\n",
              "    </tr>\n",
              "  </tbody>\n",
              "</table>\n",
              "</div>\n",
              "      <button class=\"colab-df-convert\" onclick=\"convertToInteractive('df-72816807-0ea5-4198-a534-d164fb679aa4')\"\n",
              "              title=\"Convert this dataframe to an interactive table.\"\n",
              "              style=\"display:none;\">\n",
              "        \n",
              "  <svg xmlns=\"http://www.w3.org/2000/svg\" height=\"24px\"viewBox=\"0 0 24 24\"\n",
              "       width=\"24px\">\n",
              "    <path d=\"M0 0h24v24H0V0z\" fill=\"none\"/>\n",
              "    <path d=\"M18.56 5.44l.94 2.06.94-2.06 2.06-.94-2.06-.94-.94-2.06-.94 2.06-2.06.94zm-11 1L8.5 8.5l.94-2.06 2.06-.94-2.06-.94L8.5 2.5l-.94 2.06-2.06.94zm10 10l.94 2.06.94-2.06 2.06-.94-2.06-.94-.94-2.06-.94 2.06-2.06.94z\"/><path d=\"M17.41 7.96l-1.37-1.37c-.4-.4-.92-.59-1.43-.59-.52 0-1.04.2-1.43.59L10.3 9.45l-7.72 7.72c-.78.78-.78 2.05 0 2.83L4 21.41c.39.39.9.59 1.41.59.51 0 1.02-.2 1.41-.59l7.78-7.78 2.81-2.81c.8-.78.8-2.07 0-2.86zM5.41 20L4 18.59l7.72-7.72 1.47 1.35L5.41 20z\"/>\n",
              "  </svg>\n",
              "      </button>\n",
              "      \n",
              "  <style>\n",
              "    .colab-df-container {\n",
              "      display:flex;\n",
              "      flex-wrap:wrap;\n",
              "      gap: 12px;\n",
              "    }\n",
              "\n",
              "    .colab-df-convert {\n",
              "      background-color: #E8F0FE;\n",
              "      border: none;\n",
              "      border-radius: 50%;\n",
              "      cursor: pointer;\n",
              "      display: none;\n",
              "      fill: #1967D2;\n",
              "      height: 32px;\n",
              "      padding: 0 0 0 0;\n",
              "      width: 32px;\n",
              "    }\n",
              "\n",
              "    .colab-df-convert:hover {\n",
              "      background-color: #E2EBFA;\n",
              "      box-shadow: 0px 1px 2px rgba(60, 64, 67, 0.3), 0px 1px 3px 1px rgba(60, 64, 67, 0.15);\n",
              "      fill: #174EA6;\n",
              "    }\n",
              "\n",
              "    [theme=dark] .colab-df-convert {\n",
              "      background-color: #3B4455;\n",
              "      fill: #D2E3FC;\n",
              "    }\n",
              "\n",
              "    [theme=dark] .colab-df-convert:hover {\n",
              "      background-color: #434B5C;\n",
              "      box-shadow: 0px 1px 3px 1px rgba(0, 0, 0, 0.15);\n",
              "      filter: drop-shadow(0px 1px 2px rgba(0, 0, 0, 0.3));\n",
              "      fill: #FFFFFF;\n",
              "    }\n",
              "  </style>\n",
              "\n",
              "      <script>\n",
              "        const buttonEl =\n",
              "          document.querySelector('#df-72816807-0ea5-4198-a534-d164fb679aa4 button.colab-df-convert');\n",
              "        buttonEl.style.display =\n",
              "          google.colab.kernel.accessAllowed ? 'block' : 'none';\n",
              "\n",
              "        async function convertToInteractive(key) {\n",
              "          const element = document.querySelector('#df-72816807-0ea5-4198-a534-d164fb679aa4');\n",
              "          const dataTable =\n",
              "            await google.colab.kernel.invokeFunction('convertToInteractive',\n",
              "                                                     [key], {});\n",
              "          if (!dataTable) return;\n",
              "\n",
              "          const docLinkHtml = 'Like what you see? Visit the ' +\n",
              "            '<a target=\"_blank\" href=https://colab.research.google.com/notebooks/data_table.ipynb>data table notebook</a>'\n",
              "            + ' to learn more about interactive tables.';\n",
              "          element.innerHTML = '';\n",
              "          dataTable['output_type'] = 'display_data';\n",
              "          await google.colab.output.renderOutput(dataTable, element);\n",
              "          const docLink = document.createElement('div');\n",
              "          docLink.innerHTML = docLinkHtml;\n",
              "          element.appendChild(docLink);\n",
              "        }\n",
              "      </script>\n",
              "    </div>\n",
              "  </div>\n",
              "  "
            ]
          },
          "metadata": {},
          "execution_count": 21
        }
      ]
    },
    {
      "cell_type": "code",
      "source": [
        "pd.crosstab(df['ProviderStatusGroup'], df['SanctionCount'], dropna=False)"
      ],
      "metadata": {
        "colab": {
          "base_uri": "https://localhost:8080/",
          "height": 143
        },
        "outputId": "6441a9dd-582d-4a8f-8009-160cb515ca33",
        "id": "hCxNLIvLR0VM"
      },
      "execution_count": 22,
      "outputs": [
        {
          "output_type": "execute_result",
          "data": {
            "text/plain": [
              "SanctionCount          0  1  2  3  4  6\n",
              "ProviderStatusGroup                    \n",
              "Registered           493  0  3  2  1  1\n",
              "Unregistered         493  6  1  0  0  0"
            ],
            "text/html": [
              "\n",
              "  <div id=\"df-2c7180fc-0566-4d67-9fbd-cb6da35a780a\">\n",
              "    <div class=\"colab-df-container\">\n",
              "      <div>\n",
              "<style scoped>\n",
              "    .dataframe tbody tr th:only-of-type {\n",
              "        vertical-align: middle;\n",
              "    }\n",
              "\n",
              "    .dataframe tbody tr th {\n",
              "        vertical-align: top;\n",
              "    }\n",
              "\n",
              "    .dataframe thead th {\n",
              "        text-align: right;\n",
              "    }\n",
              "</style>\n",
              "<table border=\"1\" class=\"dataframe\">\n",
              "  <thead>\n",
              "    <tr style=\"text-align: right;\">\n",
              "      <th>SanctionCount</th>\n",
              "      <th>0</th>\n",
              "      <th>1</th>\n",
              "      <th>2</th>\n",
              "      <th>3</th>\n",
              "      <th>4</th>\n",
              "      <th>6</th>\n",
              "    </tr>\n",
              "    <tr>\n",
              "      <th>ProviderStatusGroup</th>\n",
              "      <th></th>\n",
              "      <th></th>\n",
              "      <th></th>\n",
              "      <th></th>\n",
              "      <th></th>\n",
              "      <th></th>\n",
              "    </tr>\n",
              "  </thead>\n",
              "  <tbody>\n",
              "    <tr>\n",
              "      <th>Registered</th>\n",
              "      <td>493</td>\n",
              "      <td>0</td>\n",
              "      <td>3</td>\n",
              "      <td>2</td>\n",
              "      <td>1</td>\n",
              "      <td>1</td>\n",
              "    </tr>\n",
              "    <tr>\n",
              "      <th>Unregistered</th>\n",
              "      <td>493</td>\n",
              "      <td>6</td>\n",
              "      <td>1</td>\n",
              "      <td>0</td>\n",
              "      <td>0</td>\n",
              "      <td>0</td>\n",
              "    </tr>\n",
              "  </tbody>\n",
              "</table>\n",
              "</div>\n",
              "      <button class=\"colab-df-convert\" onclick=\"convertToInteractive('df-2c7180fc-0566-4d67-9fbd-cb6da35a780a')\"\n",
              "              title=\"Convert this dataframe to an interactive table.\"\n",
              "              style=\"display:none;\">\n",
              "        \n",
              "  <svg xmlns=\"http://www.w3.org/2000/svg\" height=\"24px\"viewBox=\"0 0 24 24\"\n",
              "       width=\"24px\">\n",
              "    <path d=\"M0 0h24v24H0V0z\" fill=\"none\"/>\n",
              "    <path d=\"M18.56 5.44l.94 2.06.94-2.06 2.06-.94-2.06-.94-.94-2.06-.94 2.06-2.06.94zm-11 1L8.5 8.5l.94-2.06 2.06-.94-2.06-.94L8.5 2.5l-.94 2.06-2.06.94zm10 10l.94 2.06.94-2.06 2.06-.94-2.06-.94-.94-2.06-.94 2.06-2.06.94z\"/><path d=\"M17.41 7.96l-1.37-1.37c-.4-.4-.92-.59-1.43-.59-.52 0-1.04.2-1.43.59L10.3 9.45l-7.72 7.72c-.78.78-.78 2.05 0 2.83L4 21.41c.39.39.9.59 1.41.59.51 0 1.02-.2 1.41-.59l7.78-7.78 2.81-2.81c.8-.78.8-2.07 0-2.86zM5.41 20L4 18.59l7.72-7.72 1.47 1.35L5.41 20z\"/>\n",
              "  </svg>\n",
              "      </button>\n",
              "      \n",
              "  <style>\n",
              "    .colab-df-container {\n",
              "      display:flex;\n",
              "      flex-wrap:wrap;\n",
              "      gap: 12px;\n",
              "    }\n",
              "\n",
              "    .colab-df-convert {\n",
              "      background-color: #E8F0FE;\n",
              "      border: none;\n",
              "      border-radius: 50%;\n",
              "      cursor: pointer;\n",
              "      display: none;\n",
              "      fill: #1967D2;\n",
              "      height: 32px;\n",
              "      padding: 0 0 0 0;\n",
              "      width: 32px;\n",
              "    }\n",
              "\n",
              "    .colab-df-convert:hover {\n",
              "      background-color: #E2EBFA;\n",
              "      box-shadow: 0px 1px 2px rgba(60, 64, 67, 0.3), 0px 1px 3px 1px rgba(60, 64, 67, 0.15);\n",
              "      fill: #174EA6;\n",
              "    }\n",
              "\n",
              "    [theme=dark] .colab-df-convert {\n",
              "      background-color: #3B4455;\n",
              "      fill: #D2E3FC;\n",
              "    }\n",
              "\n",
              "    [theme=dark] .colab-df-convert:hover {\n",
              "      background-color: #434B5C;\n",
              "      box-shadow: 0px 1px 3px 1px rgba(0, 0, 0, 0.15);\n",
              "      filter: drop-shadow(0px 1px 2px rgba(0, 0, 0, 0.3));\n",
              "      fill: #FFFFFF;\n",
              "    }\n",
              "  </style>\n",
              "\n",
              "      <script>\n",
              "        const buttonEl =\n",
              "          document.querySelector('#df-2c7180fc-0566-4d67-9fbd-cb6da35a780a button.colab-df-convert');\n",
              "        buttonEl.style.display =\n",
              "          google.colab.kernel.accessAllowed ? 'block' : 'none';\n",
              "\n",
              "        async function convertToInteractive(key) {\n",
              "          const element = document.querySelector('#df-2c7180fc-0566-4d67-9fbd-cb6da35a780a');\n",
              "          const dataTable =\n",
              "            await google.colab.kernel.invokeFunction('convertToInteractive',\n",
              "                                                     [key], {});\n",
              "          if (!dataTable) return;\n",
              "\n",
              "          const docLinkHtml = 'Like what you see? Visit the ' +\n",
              "            '<a target=\"_blank\" href=https://colab.research.google.com/notebooks/data_table.ipynb>data table notebook</a>'\n",
              "            + ' to learn more about interactive tables.';\n",
              "          element.innerHTML = '';\n",
              "          dataTable['output_type'] = 'display_data';\n",
              "          await google.colab.output.renderOutput(dataTable, element);\n",
              "          const docLink = document.createElement('div');\n",
              "          docLink.innerHTML = docLinkHtml;\n",
              "          element.appendChild(docLink);\n",
              "        }\n",
              "      </script>\n",
              "    </div>\n",
              "  </div>\n",
              "  "
            ]
          },
          "metadata": {},
          "execution_count": 22
        }
      ]
    },
    {
      "cell_type": "code",
      "source": [
        "#Plot histograms of numerical variables\n",
        "viz = df\n",
        "viz.hist()\n",
        "plt.show()"
      ],
      "metadata": {
        "colab": {
          "base_uri": "https://localhost:8080/",
          "height": 281
        },
        "id": "GoKzhrVA6jx1",
        "outputId": "f3d2944e-93e4-4af3-fb5d-4d8b6bb97023"
      },
      "execution_count": 23,
      "outputs": [
        {
          "output_type": "display_data",
          "data": {
            "text/plain": [
              "<Figure size 432x288 with 6 Axes>"
            ],
            "image/png": "[encoded data removed]"
          },
          "metadata": {
            "needs_background": "light"
          }
        }
      ]
    },
    {
      "cell_type": "code",
      "source": [
        "# Recode categorical columns to collapse low frequency categories into new 'Other' column and more\n",
        "\n",
        "df[\"ProviderStatusGroup\"] = df.ProviderStatusGroup.replace ({'Registered':1, 'Unregistered':0})\n",
        "\n",
        "df[\"Email1AddressBounced\"] = df.Email1AddressBounced.replace ({0.0:'No', 1.0:'Yes'})\n",
        "\n",
        "df[\"SanctionCount\"] = df.SanctionCount.replace ({0:'0', 1:'1',2:'1', 3:'1', 4:'1', 6:'1'})\n",
        "\n",
        "df[\"LocationCount\"] = df.LocationCount.replace ({1.0:'1', 2.0:'2', 3.0:'2', 4.0:'2', 5.0:'2', 6.0:'2', 9.0:'2', 11.0:'2', 19.0:'2', 20.0:'2', \n",
        "                                                 10.0:'2', 15.0:'2', 7.0:'2', 39.0:'2', 12.0:'2', 36.0:'2', 18.0:'2', 13.0:'2'})\n",
        "\n",
        "df[\"ProviderTypeIdName\"].replace ({'PT':'Other','PC':'Other','DDS':'Other','CSW':'Other','DO':'Other','MFT':'Other','CRNA':'Other',\n",
        "                                   'APN':'Other','SLP':'Other','DMD':'Other','OT':'Other','PTNL':'Other','ABA':'Other','CP':'Other',\n",
        "                                   'DC':'Other','ACU':'Other','ADC':'Other','OD':'Other','DT':'Other','AUD':'Other','DPM':'Other','NMW':'Other'}, inplace=True)\n",
        "\n",
        "df[\"PrimaryPracticeStateIdName\"].replace ({'VA':'Other','WI':'Other','FL':'Other','OH':'Other','IN':'Other','NV':'Other','WA':'Other',\n",
        "                                   'AR':'Other','MO':'Other','MN':'Other','WV':'Other','KY':'Other','IA':'Other','MD':'Other',\n",
        "                                   'OR':'Other','ME':'Other','IL':'Other','NJ':'Other','MA':'Other','NC':'Other','NH':'Other','DC':'Other','AZ':'Other','NM':'Other',\n",
        "                                   'TN':'Other','NE':'Other','LA':'Other','VT':'Other','PA':'Other','SD':'Other','MI':'Other','HI':'Other','UT':'Other','KS':'Other',\n",
        "                                   'DE':'Other','OK':'Other','ND':'Other','MT':'Other','ID':'Other','WY':'Other','AL':'Other'}, inplace=True)\n",
        "\n",
        "\n",
        "# Replace missings in \"\" column with most frequent value (40.0)\n",
        "\n",
        "df[\"ProviderAgeNearestDecade\"].replace(np.nan, 40.0, inplace=True)\n",
        "\n",
        "df[\"Email1Root\"].replace ({'org':'Other','net':'Other','edu':'Other','COM':'com','us':'Other','pro':'Other','ORG':'Other',\n",
        "                                   'co':'Other','gov':'Other','health':'Other','EDU':'Other','healthcare':'Other'}, inplace=True)\n",
        "\n",
        "\n",
        "# Drop all columns below not included in model\n",
        "\n",
        "# Email1Domanin column has 284 unique values with similar info compared to Email1Root, drop \n",
        "# Columns \"LocationCount\" and \"PracticeStateCount\" are exactly the same, drop one\n",
        "df.drop(columns=['Email1Domain','PracticeStateCount'], inplace=True)\n",
        "\n",
        "# filling with Unknown class\n",
        "df= df.fillna(\"missing\")\n"
      ],
      "metadata": {
        "id": "Tgz36SsD_kmL"
      },
      "execution_count": 24,
      "outputs": []
    },
    {
      "cell_type": "code",
      "source": [
        "# Check for missing data after recoding \n",
        "df.isnull().sum()"
      ],
      "metadata": {
        "colab": {
          "base_uri": "https://localhost:8080/"
        },
        "id": "nrnXLbfXbUR_",
        "outputId": "b9d4a95b-3ece-4017-bf11-529149c0b2bc"
      },
      "execution_count": 25,
      "outputs": [
        {
          "output_type": "execute_result",
          "data": {
            "text/plain": [
              "ProviderStatusGroup           0\n",
              "SanctionCount                 0\n",
              "LocationCount                 0\n",
              "ProviderTypeIdName            0\n",
              "PrimaryPracticeStateIdName    0\n",
              "Email1Root                    0\n",
              "Email1AddressBounced          0\n",
              "ProviderAgeNearestDecade      0\n",
              "dtype: int64"
            ]
          },
          "metadata": {},
          "execution_count": 25
        }
      ]
    },
    {
      "cell_type": "code",
      "source": [
        "# Pre-processing prior to modeling (Normalizing age variable)\n",
        "from sklearn.preprocessing import StandardScaler\n",
        "\n",
        "scaler = StandardScaler()\n",
        "col = ['ProviderAgeNearestDecade']\n",
        "df[col] = scaler.fit_transform(df[col])\n",
        "\n",
        "df.head()"
      ],
      "metadata": {
        "colab": {
          "base_uri": "https://localhost:8080/",
          "height": 270
        },
        "id": "RohlbGVsy7Xq",
        "outputId": "3a6776cf-e4f9-4e3e-e00c-6c52c8c2a116"
      },
      "execution_count": 26,
      "outputs": [
        {
          "output_type": "execute_result",
          "data": {
            "text/plain": [
              "   ProviderStatusGroup SanctionCount LocationCount ProviderTypeIdName  \\\n",
              "0                    1             0       missing                 MD   \n",
              "1                    1             0       missing                 MD   \n",
              "2                    1             0       missing                 MD   \n",
              "3                    1             0       missing                 MD   \n",
              "4                    1             0       missing              Other   \n",
              "\n",
              "  PrimaryPracticeStateIdName Email1Root Email1AddressBounced  \\\n",
              "0                      Other        com                   No   \n",
              "1                      Other        com                   No   \n",
              "2                      Other        com                   No   \n",
              "3                      Other      Other                   No   \n",
              "4                         GA        com                   No   \n",
              "\n",
              "   ProviderAgeNearestDecade  \n",
              "0                 -0.210473  \n",
              "1                 -0.210473  \n",
              "2                 -1.001724  \n",
              "3                  0.580778  \n",
              "4                 -1.001724  "
            ],
            "text/html": [
              "\n",
              "  <div id=\"df-e5688933-efda-423d-89d7-886bf133bef9\">\n",
              "    <div class=\"colab-df-container\">\n",
              "      <div>\n",
              "<style scoped>\n",
              "    .dataframe tbody tr th:only-of-type {\n",
              "        vertical-align: middle;\n",
              "    }\n",
              "\n",
              "    .dataframe tbody tr th {\n",
              "        vertical-align: top;\n",
              "    }\n",
              "\n",
              "    .dataframe thead th {\n",
              "        text-align: right;\n",
              "    }\n",
              "</style>\n",
              "<table border=\"1\" class=\"dataframe\">\n",
              "  <thead>\n",
              "    <tr style=\"text-align: right;\">\n",
              "      <th></th>\n",
              "      <th>ProviderStatusGroup</th>\n",
              "      <th>SanctionCount</th>\n",
              "      <th>LocationCount</th>\n",
              "      <th>ProviderTypeIdName</th>\n",
              "      <th>PrimaryPracticeStateIdName</th>\n",
              "      <th>Email1Root</th>\n",
              "      <th>Email1AddressBounced</th>\n",
              "      <th>ProviderAgeNearestDecade</th>\n",
              "    </tr>\n",
              "  </thead>\n",
              "  <tbody>\n",
              "    <tr>\n",
              "      <th>0</th>\n",
              "      <td>1</td>\n",
              "      <td>0</td>\n",
              "      <td>missing</td>\n",
              "      <td>MD</td>\n",
              "      <td>Other</td>\n",
              "      <td>com</td>\n",
              "      <td>No</td>\n",
              "      <td>-0.210473</td>\n",
              "    </tr>\n",
              "    <tr>\n",
              "      <th>1</th>\n",
              "      <td>1</td>\n",
              "      <td>0</td>\n",
              "      <td>missing</td>\n",
              "      <td>MD</td>\n",
              "      <td>Other</td>\n",
              "      <td>com</td>\n",
              "      <td>No</td>\n",
              "      <td>-0.210473</td>\n",
              "    </tr>\n",
              "    <tr>\n",
              "      <th>2</th>\n",
              "      <td>1</td>\n",
              "      <td>0</td>\n",
              "      <td>missing</td>\n",
              "      <td>MD</td>\n",
              "      <td>Other</td>\n",
              "      <td>com</td>\n",
              "      <td>No</td>\n",
              "      <td>-1.001724</td>\n",
              "    </tr>\n",
              "    <tr>\n",
              "      <th>3</th>\n",
              "      <td>1</td>\n",
              "      <td>0</td>\n",
              "      <td>missing</td>\n",
              "      <td>MD</td>\n",
              "      <td>Other</td>\n",
              "      <td>Other</td>\n",
              "      <td>No</td>\n",
              "      <td>0.580778</td>\n",
              "    </tr>\n",
              "    <tr>\n",
              "      <th>4</th>\n",
              "      <td>1</td>\n",
              "      <td>0</td>\n",
              "      <td>missing</td>\n",
              "      <td>Other</td>\n",
              "      <td>GA</td>\n",
              "      <td>com</td>\n",
              "      <td>No</td>\n",
              "      <td>-1.001724</td>\n",
              "    </tr>\n",
              "  </tbody>\n",
              "</table>\n",
              "</div>\n",
              "      <button class=\"colab-df-convert\" onclick=\"convertToInteractive('df-e5688933-efda-423d-89d7-886bf133bef9')\"\n",
              "              title=\"Convert this dataframe to an interactive table.\"\n",
              "              style=\"display:none;\">\n",
              "        \n",
              "  <svg xmlns=\"http://www.w3.org/2000/svg\" height=\"24px\"viewBox=\"0 0 24 24\"\n",
              "       width=\"24px\">\n",
              "    <path d=\"M0 0h24v24H0V0z\" fill=\"none\"/>\n",
              "    <path d=\"M18.56 5.44l.94 2.06.94-2.06 2.06-.94-2.06-.94-.94-2.06-.94 2.06-2.06.94zm-11 1L8.5 8.5l.94-2.06 2.06-.94-2.06-.94L8.5 2.5l-.94 2.06-2.06.94zm10 10l.94 2.06.94-2.06 2.06-.94-2.06-.94-.94-2.06-.94 2.06-2.06.94z\"/><path d=\"M17.41 7.96l-1.37-1.37c-.4-.4-.92-.59-1.43-.59-.52 0-1.04.2-1.43.59L10.3 9.45l-7.72 7.72c-.78.78-.78 2.05 0 2.83L4 21.41c.39.39.9.59 1.41.59.51 0 1.02-.2 1.41-.59l7.78-7.78 2.81-2.81c.8-.78.8-2.07 0-2.86zM5.41 20L4 18.59l7.72-7.72 1.47 1.35L5.41 20z\"/>\n",
              "  </svg>\n",
              "      </button>\n",
              "      \n",
              "  <style>\n",
              "    .colab-df-container {\n",
              "      display:flex;\n",
              "      flex-wrap:wrap;\n",
              "      gap: 12px;\n",
              "    }\n",
              "\n",
              "    .colab-df-convert {\n",
              "      background-color: #E8F0FE;\n",
              "      border: none;\n",
              "      border-radius: 50%;\n",
              "      cursor: pointer;\n",
              "      display: none;\n",
              "      fill: #1967D2;\n",
              "      height: 32px;\n",
              "      padding: 0 0 0 0;\n",
              "      width: 32px;\n",
              "    }\n",
              "\n",
              "    .colab-df-convert:hover {\n",
              "      background-color: #E2EBFA;\n",
              "      box-shadow: 0px 1px 2px rgba(60, 64, 67, 0.3), 0px 1px 3px 1px rgba(60, 64, 67, 0.15);\n",
              "      fill: #174EA6;\n",
              "    }\n",
              "\n",
              "    [theme=dark] .colab-df-convert {\n",
              "      background-color: #3B4455;\n",
              "      fill: #D2E3FC;\n",
              "    }\n",
              "\n",
              "    [theme=dark] .colab-df-convert:hover {\n",
              "      background-color: #434B5C;\n",
              "      box-shadow: 0px 1px 3px 1px rgba(0, 0, 0, 0.15);\n",
              "      filter: drop-shadow(0px 1px 2px rgba(0, 0, 0, 0.3));\n",
              "      fill: #FFFFFF;\n",
              "    }\n",
              "  </style>\n",
              "\n",
              "      <script>\n",
              "        const buttonEl =\n",
              "          document.querySelector('#df-e5688933-efda-423d-89d7-886bf133bef9 button.colab-df-convert');\n",
              "        buttonEl.style.display =\n",
              "          google.colab.kernel.accessAllowed ? 'block' : 'none';\n",
              "\n",
              "        async function convertToInteractive(key) {\n",
              "          const element = document.querySelector('#df-e5688933-efda-423d-89d7-886bf133bef9');\n",
              "          const dataTable =\n",
              "            await google.colab.kernel.invokeFunction('convertToInteractive',\n",
              "                                                     [key], {});\n",
              "          if (!dataTable) return;\n",
              "\n",
              "          const docLinkHtml = 'Like what you see? Visit the ' +\n",
              "            '<a target=\"_blank\" href=https://colab.research.google.com/notebooks/data_table.ipynb>data table notebook</a>'\n",
              "            + ' to learn more about interactive tables.';\n",
              "          element.innerHTML = '';\n",
              "          dataTable['output_type'] = 'display_data';\n",
              "          await google.colab.output.renderOutput(dataTable, element);\n",
              "          const docLink = document.createElement('div');\n",
              "          docLink.innerHTML = docLinkHtml;\n",
              "          element.appendChild(docLink);\n",
              "        }\n",
              "      </script>\n",
              "    </div>\n",
              "  </div>\n",
              "  "
            ]
          },
          "metadata": {},
          "execution_count": 26
        }
      ]
    },
    {
      "cell_type": "code",
      "source": [
        "# Encoding Categorical Columns and creating new dataset for modeling \n",
        "\n",
        "from sklearn.preprocessing import OneHotEncoder\n",
        "\n",
        "encoder = OneHotEncoder(sparse=False)\n",
        "cat_cols = ['SanctionCount','LocationCount','ProviderTypeIdName','PrimaryPracticeStateIdName','Email1Root','Email1AddressBounced']\n",
        "\n",
        "# Encode Categorical Data\n",
        "df_encoded = pd.DataFrame(encoder.fit_transform(df[cat_cols]))\n",
        "df_encoded.columns = encoder.get_feature_names(cat_cols)\n",
        "\n",
        "# Replace Categotical Data with Encoded Data\n",
        "df = df.drop(cat_cols ,axis=1)\n",
        "df = pd.concat([df_encoded, df], axis=1)\n",
        "\n",
        "print('Shape of dataframe:', df.shape)\n",
        "df.head()"
      ],
      "metadata": {
        "colab": {
          "base_uri": "https://localhost:8080/",
          "height": 322
        },
        "id": "cRCn_SqPtK3s",
        "outputId": "846a925d-efb0-4608-e5d1-d15723f27d77"
      },
      "execution_count": 27,
      "outputs": [
        {
          "output_type": "stream",
          "name": "stderr",
          "text": [
            "/usr/local/lib/python3.8/dist-packages/sklearn/utils/deprecation.py:87: FutureWarning: Function get_feature_names is deprecated; get_feature_names is deprecated in 1.0 and will be removed in 1.2. Please use get_feature_names_out instead.\n",
            "  warnings.warn(msg, category=FutureWarning)\n"
          ]
        },
        {
          "output_type": "stream",
          "name": "stdout",
          "text": [
            "Shape of dataframe: (1000, 27)\n"
          ]
        },
        {
          "output_type": "execute_result",
          "data": {
            "text/plain": [
              "   SanctionCount_0  SanctionCount_1  LocationCount_1  LocationCount_2  \\\n",
              "0              1.0              0.0              0.0              0.0   \n",
              "1              1.0              0.0              0.0              0.0   \n",
              "2              1.0              0.0              0.0              0.0   \n",
              "3              1.0              0.0              0.0              0.0   \n",
              "4              1.0              0.0              0.0              0.0   \n",
              "\n",
              "   LocationCount_missing  ProviderTypeIdName_MD  ProviderTypeIdName_NP  \\\n",
              "0                    1.0                    1.0                    0.0   \n",
              "1                    1.0                    1.0                    0.0   \n",
              "2                    1.0                    1.0                    0.0   \n",
              "3                    1.0                    1.0                    0.0   \n",
              "4                    1.0                    0.0                    0.0   \n",
              "\n",
              "   ProviderTypeIdName_Other  ProviderTypeIdName_PA  \\\n",
              "0                       0.0                    0.0   \n",
              "1                       0.0                    0.0   \n",
              "2                       0.0                    0.0   \n",
              "3                       0.0                    0.0   \n",
              "4                       1.0                    0.0   \n",
              "\n",
              "   ProviderTypeIdName_missing  PrimaryPracticeStateIdName_CA  \\\n",
              "0                         0.0                            0.0   \n",
              "1                         0.0                            0.0   \n",
              "2                         0.0                            0.0   \n",
              "3                         0.0                            0.0   \n",
              "4                         0.0                            0.0   \n",
              "\n",
              "   PrimaryPracticeStateIdName_CO  PrimaryPracticeStateIdName_CT  \\\n",
              "0                            0.0                            0.0   \n",
              "1                            0.0                            0.0   \n",
              "2                            0.0                            0.0   \n",
              "3                            0.0                            0.0   \n",
              "4                            0.0                            0.0   \n",
              "\n",
              "   PrimaryPracticeStateIdName_GA  PrimaryPracticeStateIdName_NY  \\\n",
              "0                            0.0                            0.0   \n",
              "1                            0.0                            0.0   \n",
              "2                            0.0                            0.0   \n",
              "3                            0.0                            0.0   \n",
              "4                            1.0                            0.0   \n",
              "\n",
              "   PrimaryPracticeStateIdName_Other  PrimaryPracticeStateIdName_SC  \\\n",
              "0                               1.0                            0.0   \n",
              "1                               1.0                            0.0   \n",
              "2                               1.0                            0.0   \n",
              "3                               1.0                            0.0   \n",
              "4                               0.0                            0.0   \n",
              "\n",
              "   PrimaryPracticeStateIdName_TX  PrimaryPracticeStateIdName_missing  \\\n",
              "0                            0.0                                 0.0   \n",
              "1                            0.0                                 0.0   \n",
              "2                            0.0                                 0.0   \n",
              "3                            0.0                                 0.0   \n",
              "4                            0.0                                 0.0   \n",
              "\n",
              "   Email1Root_Other  Email1Root_com  Email1Root_missing  \\\n",
              "0               0.0             1.0                 0.0   \n",
              "1               0.0             1.0                 0.0   \n",
              "2               0.0             1.0                 0.0   \n",
              "3               1.0             0.0                 0.0   \n",
              "4               0.0             1.0                 0.0   \n",
              "\n",
              "   Email1AddressBounced_No  Email1AddressBounced_Yes  \\\n",
              "0                      1.0                       0.0   \n",
              "1                      1.0                       0.0   \n",
              "2                      1.0                       0.0   \n",
              "3                      1.0                       0.0   \n",
              "4                      1.0                       0.0   \n",
              "\n",
              "   Email1AddressBounced_missing  ProviderStatusGroup  ProviderAgeNearestDecade  \n",
              "0                           0.0                    1                 -0.210473  \n",
              "1                           0.0                    1                 -0.210473  \n",
              "2                           0.0                    1                 -1.001724  \n",
              "3                           0.0                    1                  0.580778  \n",
              "4                           0.0                    1                 -1.001724  "
            ],
            "text/html": [
              "\n",
              "  <div id=\"df-e9860c65-9007-44d3-a3df-e7aff559c358\">\n",
              "    <div class=\"colab-df-container\">\n",
              "      <div>\n",
              "<style scoped>\n",
              "    .dataframe tbody tr th:only-of-type {\n",
              "        vertical-align: middle;\n",
              "    }\n",
              "\n",
              "    .dataframe tbody tr th {\n",
              "        vertical-align: top;\n",
              "    }\n",
              "\n",
              "    .dataframe thead th {\n",
              "        text-align: right;\n",
              "    }\n",
              "</style>\n",
              "<table border=\"1\" class=\"dataframe\">\n",
              "  <thead>\n",
              "    <tr style=\"text-align: right;\">\n",
              "      <th></th>\n",
              "      <th>SanctionCount_0</th>\n",
              "      <th>SanctionCount_1</th>\n",
              "      <th>LocationCount_1</th>\n",
              "      <th>LocationCount_2</th>\n",
              "      <th>LocationCount_missing</th>\n",
              "      <th>ProviderTypeIdName_MD</th>\n",
              "      <th>ProviderTypeIdName_NP</th>\n",
              "      <th>ProviderTypeIdName_Other</th>\n",
              "      <th>ProviderTypeIdName_PA</th>\n",
              "      <th>ProviderTypeIdName_missing</th>\n",
              "      <th>PrimaryPracticeStateIdName_CA</th>\n",
              "      <th>PrimaryPracticeStateIdName_CO</th>\n",
              "      <th>PrimaryPracticeStateIdName_CT</th>\n",
              "      <th>PrimaryPracticeStateIdName_GA</th>\n",
              "      <th>PrimaryPracticeStateIdName_NY</th>\n",
              "      <th>PrimaryPracticeStateIdName_Other</th>\n",
              "      <th>PrimaryPracticeStateIdName_SC</th>\n",
              "      <th>PrimaryPracticeStateIdName_TX</th>\n",
              "      <th>PrimaryPracticeStateIdName_missing</th>\n",
              "      <th>Email1Root_Other</th>\n",
              "      <th>Email1Root_com</th>\n",
              "      <th>Email1Root_missing</th>\n",
              "      <th>Email1AddressBounced_No</th>\n",
              "      <th>Email1AddressBounced_Yes</th>\n",
              "      <th>Email1AddressBounced_missing</th>\n",
              "      <th>ProviderStatusGroup</th>\n",
              "      <th>ProviderAgeNearestDecade</th>\n",
              "    </tr>\n",
              "  </thead>\n",
              "  <tbody>\n",
              "    <tr>\n",
              "      <th>0</th>\n",
              "      <td>1.0</td>\n",
              "      <td>0.0</td>\n",
              "      <td>0.0</td>\n",
              "      <td>0.0</td>\n",
              "      <td>1.0</td>\n",
              "      <td>1.0</td>\n",
              "      <td>0.0</td>\n",
              "      <td>0.0</td>\n",
              "      <td>0.0</td>\n",
              "      <td>0.0</td>\n",
              "      <td>0.0</td>\n",
              "      <td>0.0</td>\n",
              "      <td>0.0</td>\n",
              "      <td>0.0</td>\n",
              "      <td>0.0</td>\n",
              "      <td>1.0</td>\n",
              "      <td>0.0</td>\n",
              "      <td>0.0</td>\n",
              "      <td>0.0</td>\n",
              "      <td>0.0</td>\n",
              "      <td>1.0</td>\n",
              "      <td>0.0</td>\n",
              "      <td>1.0</td>\n",
              "      <td>0.0</td>\n",
              "      <td>0.0</td>\n",
              "      <td>1</td>\n",
              "      <td>-0.210473</td>\n",
              "    </tr>\n",
              "    <tr>\n",
              "      <th>1</th>\n",
              "      <td>1.0</td>\n",
              "      <td>0.0</td>\n",
              "      <td>0.0</td>\n",
              "      <td>0.0</td>\n",
              "      <td>1.0</td>\n",
              "      <td>1.0</td>\n",
              "      <td>0.0</td>\n",
              "      <td>0.0</td>\n",
              "      <td>0.0</td>\n",
              "      <td>0.0</td>\n",
              "      <td>0.0</td>\n",
              "      <td>0.0</td>\n",
              "      <td>0.0</td>\n",
              "      <td>0.0</td>\n",
              "      <td>0.0</td>\n",
              "      <td>1.0</td>\n",
              "      <td>0.0</td>\n",
              "      <td>0.0</td>\n",
              "      <td>0.0</td>\n",
              "      <td>0.0</td>\n",
              "      <td>1.0</td>\n",
              "      <td>0.0</td>\n",
              "      <td>1.0</td>\n",
              "      <td>0.0</td>\n",
              "      <td>0.0</td>\n",
              "      <td>1</td>\n",
              "      <td>-0.210473</td>\n",
              "    </tr>\n",
              "    <tr>\n",
              "      <th>2</th>\n",
              "      <td>1.0</td>\n",
              "      <td>0.0</td>\n",
              "      <td>0.0</td>\n",
              "      <td>0.0</td>\n",
              "      <td>1.0</td>\n",
              "      <td>1.0</td>\n",
              "      <td>0.0</td>\n",
              "      <td>0.0</td>\n",
              "      <td>0.0</td>\n",
              "      <td>0.0</td>\n",
              "      <td>0.0</td>\n",
              "      <td>0.0</td>\n",
              "      <td>0.0</td>\n",
              "      <td>0.0</td>\n",
              "      <td>0.0</td>\n",
              "      <td>1.0</td>\n",
              "      <td>0.0</td>\n",
              "      <td>0.0</td>\n",
              "      <td>0.0</td>\n",
              "      <td>0.0</td>\n",
              "      <td>1.0</td>\n",
              "      <td>0.0</td>\n",
              "      <td>1.0</td>\n",
              "      <td>0.0</td>\n",
              "      <td>0.0</td>\n",
              "      <td>1</td>\n",
              "      <td>-1.001724</td>\n",
              "    </tr>\n",
              "    <tr>\n",
              "      <th>3</th>\n",
              "      <td>1.0</td>\n",
              "      <td>0.0</td>\n",
              "      <td>0.0</td>\n",
              "      <td>0.0</td>\n",
              "      <td>1.0</td>\n",
              "      <td>1.0</td>\n",
              "      <td>0.0</td>\n",
              "      <td>0.0</td>\n",
              "      <td>0.0</td>\n",
              "      <td>0.0</td>\n",
              "      <td>0.0</td>\n",
              "      <td>0.0</td>\n",
              "      <td>0.0</td>\n",
              "      <td>0.0</td>\n",
              "      <td>0.0</td>\n",
              "      <td>1.0</td>\n",
              "      <td>0.0</td>\n",
              "      <td>0.0</td>\n",
              "      <td>0.0</td>\n",
              "      <td>1.0</td>\n",
              "      <td>0.0</td>\n",
              "      <td>0.0</td>\n",
              "      <td>1.0</td>\n",
              "      <td>0.0</td>\n",
              "      <td>0.0</td>\n",
              "      <td>1</td>\n",
              "      <td>0.580778</td>\n",
              "    </tr>\n",
              "    <tr>\n",
              "      <th>4</th>\n",
              "      <td>1.0</td>\n",
              "      <td>0.0</td>\n",
              "      <td>0.0</td>\n",
              "      <td>0.0</td>\n",
              "      <td>1.0</td>\n",
              "      <td>0.0</td>\n",
              "      <td>0.0</td>\n",
              "      <td>1.0</td>\n",
              "      <td>0.0</td>\n",
              "      <td>0.0</td>\n",
              "      <td>0.0</td>\n",
              "      <td>0.0</td>\n",
              "      <td>0.0</td>\n",
              "      <td>1.0</td>\n",
              "      <td>0.0</td>\n",
              "      <td>0.0</td>\n",
              "      <td>0.0</td>\n",
              "      <td>0.0</td>\n",
              "      <td>0.0</td>\n",
              "      <td>0.0</td>\n",
              "      <td>1.0</td>\n",
              "      <td>0.0</td>\n",
              "      <td>1.0</td>\n",
              "      <td>0.0</td>\n",
              "      <td>0.0</td>\n",
              "      <td>1</td>\n",
              "      <td>-1.001724</td>\n",
              "    </tr>\n",
              "  </tbody>\n",
              "</table>\n",
              "</div>\n",
              "      <button class=\"colab-df-convert\" onclick=\"convertToInteractive('df-e9860c65-9007-44d3-a3df-e7aff559c358')\"\n",
              "              title=\"Convert this dataframe to an interactive table.\"\n",
              "              style=\"display:none;\">\n",
              "        \n",
              "  <svg xmlns=\"http://www.w3.org/2000/svg\" height=\"24px\"viewBox=\"0 0 24 24\"\n",
              "       width=\"24px\">\n",
              "    <path d=\"M0 0h24v24H0V0z\" fill=\"none\"/>\n",
              "    <path d=\"M18.56 5.44l.94 2.06.94-2.06 2.06-.94-2.06-.94-.94-2.06-.94 2.06-2.06.94zm-11 1L8.5 8.5l.94-2.06 2.06-.94-2.06-.94L8.5 2.5l-.94 2.06-2.06.94zm10 10l.94 2.06.94-2.06 2.06-.94-2.06-.94-.94-2.06-.94 2.06-2.06.94z\"/><path d=\"M17.41 7.96l-1.37-1.37c-.4-.4-.92-.59-1.43-.59-.52 0-1.04.2-1.43.59L10.3 9.45l-7.72 7.72c-.78.78-.78 2.05 0 2.83L4 21.41c.39.39.9.59 1.41.59.51 0 1.02-.2 1.41-.59l7.78-7.78 2.81-2.81c.8-.78.8-2.07 0-2.86zM5.41 20L4 18.59l7.72-7.72 1.47 1.35L5.41 20z\"/>\n",
              "  </svg>\n",
              "      </button>\n",
              "      \n",
              "  <style>\n",
              "    .colab-df-container {\n",
              "      display:flex;\n",
              "      flex-wrap:wrap;\n",
              "      gap: 12px;\n",
              "    }\n",
              "\n",
              "    .colab-df-convert {\n",
              "      background-color: #E8F0FE;\n",
              "      border: none;\n",
              "      border-radius: 50%;\n",
              "      cursor: pointer;\n",
              "      display: none;\n",
              "      fill: #1967D2;\n",
              "      height: 32px;\n",
              "      padding: 0 0 0 0;\n",
              "      width: 32px;\n",
              "    }\n",
              "\n",
              "    .colab-df-convert:hover {\n",
              "      background-color: #E2EBFA;\n",
              "      box-shadow: 0px 1px 2px rgba(60, 64, 67, 0.3), 0px 1px 3px 1px rgba(60, 64, 67, 0.15);\n",
              "      fill: #174EA6;\n",
              "    }\n",
              "\n",
              "    [theme=dark] .colab-df-convert {\n",
              "      background-color: #3B4455;\n",
              "      fill: #D2E3FC;\n",
              "    }\n",
              "\n",
              "    [theme=dark] .colab-df-convert:hover {\n",
              "      background-color: #434B5C;\n",
              "      box-shadow: 0px 1px 3px 1px rgba(0, 0, 0, 0.15);\n",
              "      filter: drop-shadow(0px 1px 2px rgba(0, 0, 0, 0.3));\n",
              "      fill: #FFFFFF;\n",
              "    }\n",
              "  </style>\n",
              "\n",
              "      <script>\n",
              "        const buttonEl =\n",
              "          document.querySelector('#df-e9860c65-9007-44d3-a3df-e7aff559c358 button.colab-df-convert');\n",
              "        buttonEl.style.display =\n",
              "          google.colab.kernel.accessAllowed ? 'block' : 'none';\n",
              "\n",
              "        async function convertToInteractive(key) {\n",
              "          const element = document.querySelector('#df-e9860c65-9007-44d3-a3df-e7aff559c358');\n",
              "          const dataTable =\n",
              "            await google.colab.kernel.invokeFunction('convertToInteractive',\n",
              "                                                     [key], {});\n",
              "          if (!dataTable) return;\n",
              "\n",
              "          const docLinkHtml = 'Like what you see? Visit the ' +\n",
              "            '<a target=\"_blank\" href=https://colab.research.google.com/notebooks/data_table.ipynb>data table notebook</a>'\n",
              "            + ' to learn more about interactive tables.';\n",
              "          element.innerHTML = '';\n",
              "          dataTable['output_type'] = 'display_data';\n",
              "          await google.colab.output.renderOutput(dataTable, element);\n",
              "          const docLink = document.createElement('div');\n",
              "          docLink.innerHTML = docLinkHtml;\n",
              "          element.appendChild(docLink);\n",
              "        }\n",
              "      </script>\n",
              "    </div>\n",
              "  </div>\n",
              "  "
            ]
          },
          "metadata": {},
          "execution_count": 27
        }
      ]
    },
    {
      "cell_type": "code",
      "source": [
        "# Put all independent variables into array for modeling \n",
        "\n",
        "X = np.asarray(df.loc[ : , df.columns != 'ProviderStatusGroup'])\n",
        "\n",
        "X[0:5]"
      ],
      "metadata": {
        "colab": {
          "base_uri": "https://localhost:8080/"
        },
        "id": "UTIAdl2MuzXv",
        "outputId": "e071eb5c-342e-40d9-ce00-1f9e02dd41a8"
      },
      "execution_count": 28,
      "outputs": [
        {
          "output_type": "execute_result",
          "data": {
            "text/plain": [
              "array([[ 1.        ,  0.        ,  0.        ,  0.        ,  1.        ,\n",
              "         1.        ,  0.        ,  0.        ,  0.        ,  0.        ,\n",
              "         0.        ,  0.        ,  0.        ,  0.        ,  0.        ,\n",
              "         1.        ,  0.        ,  0.        ,  0.        ,  0.        ,\n",
              "         1.        ,  0.        ,  1.        ,  0.        ,  0.        ,\n",
              "        -0.21047281],\n",
              "       [ 1.        ,  0.        ,  0.        ,  0.        ,  1.        ,\n",
              "         1.        ,  0.        ,  0.        ,  0.        ,  0.        ,\n",
              "         0.        ,  0.        ,  0.        ,  0.        ,  0.        ,\n",
              "         1.        ,  0.        ,  0.        ,  0.        ,  0.        ,\n",
              "         1.        ,  0.        ,  1.        ,  0.        ,  0.        ,\n",
              "        -0.21047281],\n",
              "       [ 1.        ,  0.        ,  0.        ,  0.        ,  1.        ,\n",
              "         1.        ,  0.        ,  0.        ,  0.        ,  0.        ,\n",
              "         0.        ,  0.        ,  0.        ,  0.        ,  0.        ,\n",
              "         1.        ,  0.        ,  0.        ,  0.        ,  0.        ,\n",
              "         1.        ,  0.        ,  1.        ,  0.        ,  0.        ,\n",
              "        -1.00172399],\n",
              "       [ 1.        ,  0.        ,  0.        ,  0.        ,  1.        ,\n",
              "         1.        ,  0.        ,  0.        ,  0.        ,  0.        ,\n",
              "         0.        ,  0.        ,  0.        ,  0.        ,  0.        ,\n",
              "         1.        ,  0.        ,  0.        ,  0.        ,  1.        ,\n",
              "         0.        ,  0.        ,  1.        ,  0.        ,  0.        ,\n",
              "         0.58077836],\n",
              "       [ 1.        ,  0.        ,  0.        ,  0.        ,  1.        ,\n",
              "         0.        ,  0.        ,  1.        ,  0.        ,  0.        ,\n",
              "         0.        ,  0.        ,  0.        ,  1.        ,  0.        ,\n",
              "         0.        ,  0.        ,  0.        ,  0.        ,  0.        ,\n",
              "         1.        ,  0.        ,  1.        ,  0.        ,  0.        ,\n",
              "        -1.00172399]])"
            ]
          },
          "metadata": {},
          "execution_count": 28
        }
      ]
    },
    {
      "cell_type": "code",
      "source": [
        "# Create array for outcome (dependent) variable Registered = 1, Unregistered =0\n",
        "\n",
        "y = np.asarray(df['ProviderStatusGroup'])\n",
        "y[0:5]\n"
      ],
      "metadata": {
        "colab": {
          "base_uri": "https://localhost:8080/"
        },
        "id": "so3zCbMewSRT",
        "outputId": "40c7bef8-6d70-4694-ac45-bdf33ded9e0c"
      },
      "execution_count": 29,
      "outputs": [
        {
          "output_type": "execute_result",
          "data": {
            "text/plain": [
              "array([1, 1, 1, 1, 1])"
            ]
          },
          "metadata": {},
          "execution_count": 29
        }
      ]
    },
    {
      "cell_type": "code",
      "source": [
        "X.shape"
      ],
      "metadata": {
        "colab": {
          "base_uri": "https://localhost:8080/"
        },
        "id": "NcQeDeP_zKr_",
        "outputId": "11f88f55-e61e-4a33-9e0c-7b99ad45133b"
      },
      "execution_count": 30,
      "outputs": [
        {
          "output_type": "execute_result",
          "data": {
            "text/plain": [
              "(1000, 26)"
            ]
          },
          "metadata": {},
          "execution_count": 30
        }
      ]
    },
    {
      "cell_type": "code",
      "source": [
        "y.shape"
      ],
      "metadata": {
        "colab": {
          "base_uri": "https://localhost:8080/"
        },
        "id": "Sdz-Y_kBzI3Z",
        "outputId": "2b77505f-f9cf-4fc2-c3c4-42a8dfe537df"
      },
      "execution_count": 31,
      "outputs": [
        {
          "output_type": "execute_result",
          "data": {
            "text/plain": [
              "(1000,)"
            ]
          },
          "metadata": {},
          "execution_count": 31
        }
      ]
    },
    {
      "cell_type": "markdown",
      "source": [
        "#Test/Train Split"
      ],
      "metadata": {
        "id": "AoN7_jNlCMut"
      }
    },
    {
      "cell_type": "code",
      "source": [
        "# Split data into test and train datasets to feed into Classification model\n",
        "# Testing set is 20%, Training 80%\n",
        "from pandas.core.common import random_state\n",
        "from sklearn.model_selection import train_test_split\n",
        "X_train, X_test, y_train, y_test = train_test_split( X, y, test_size=0.2, random_state=42)\n",
        "print ('Train set:', X_train.shape, y_train.shape)\n",
        "print ('Test set:', X_test.shape, y_test.shape)"
      ],
      "metadata": {
        "colab": {
          "base_uri": "https://localhost:8080/"
        },
        "id": "2V_zR2dSCJEM",
        "outputId": "1ecf75e0-6134-44b6-c84f-3cc68b61170d"
      },
      "execution_count": 32,
      "outputs": [
        {
          "output_type": "stream",
          "name": "stdout",
          "text": [
            "Train set: (800, 26) (800,)\n",
            "Test set: (200, 26) (200,)\n"
          ]
        }
      ]
    },
    {
      "cell_type": "code",
      "source": [
        "X_train"
      ],
      "metadata": {
        "colab": {
          "base_uri": "https://localhost:8080/"
        },
        "id": "jdLV5NzkCkHQ",
        "outputId": "35b99ee6-9c6b-4a80-8644-37e3b153bee4"
      },
      "execution_count": 33,
      "outputs": [
        {
          "output_type": "execute_result",
          "data": {
            "text/plain": [
              "array([[ 1.        ,  0.        ,  0.        , ...,  0.        ,\n",
              "         0.        , -0.21047281],\n",
              "       [ 1.        ,  0.        ,  0.        , ...,  0.        ,\n",
              "         0.        , -1.00172399],\n",
              "       [ 1.        ,  0.        ,  0.        , ...,  0.        ,\n",
              "         0.        ,  0.58077836],\n",
              "       ...,\n",
              "       [ 1.        ,  0.        ,  0.        , ...,  0.        ,\n",
              "         1.        , -0.21047281],\n",
              "       [ 1.        ,  0.        ,  0.        , ...,  1.        ,\n",
              "         0.        , -0.21047281],\n",
              "       [ 1.        ,  0.        ,  1.        , ...,  0.        ,\n",
              "         0.        ,  0.58077836]])"
            ]
          },
          "metadata": {},
          "execution_count": 33
        }
      ]
    },
    {
      "cell_type": "markdown",
      "source": [
        "Logistic Regression Model (Test Model)"
      ],
      "metadata": {
        "id": "_Xmj9d5OvK8l"
      }
    },
    {
      "cell_type": "code",
      "source": [
        "# Create model and tune parameters\n",
        "# Add custom weights in order to account for imbalanced data\n",
        "# C default is C=1.0 (C=0.1 performs better due to regularization)\n",
        "from sklearn.linear_model import LogisticRegression \n",
        "from sklearn.metrics import confusion_matrix\n",
        "LR = LogisticRegression(C=0.1, solver='lbfgs',random_state=0).fit(X_train,y_train)\n",
        "LR"
      ],
      "metadata": {
        "colab": {
          "base_uri": "https://localhost:8080/"
        },
        "id": "MECZtF8YvQDM",
        "outputId": "64ebf3ff-4559-4994-e07b-26a52db5c470"
      },
      "execution_count": 34,
      "outputs": [
        {
          "output_type": "execute_result",
          "data": {
            "text/plain": [
              "LogisticRegression(C=0.1, random_state=0)"
            ]
          },
          "metadata": {},
          "execution_count": 34
        }
      ]
    },
    {
      "cell_type": "code",
      "source": [
        "# Obtain test predictions \n",
        "yhat = LR.predict(X_test)\n",
        "yhat"
      ],
      "metadata": {
        "colab": {
          "base_uri": "https://localhost:8080/"
        },
        "id": "evkMgieizfnS",
        "outputId": "ff2c9359-1473-49d2-cafc-2a48d2904b54"
      },
      "execution_count": 35,
      "outputs": [
        {
          "output_type": "execute_result",
          "data": {
            "text/plain": [
              "array([0, 0, 0, 0, 1, 0, 0, 0, 0, 1, 0, 1, 0, 0, 0, 0, 0, 0, 0, 1, 0, 1,\n",
              "       1, 0, 1, 1, 1, 0, 0, 0, 1, 1, 0, 1, 1, 1, 1, 0, 0, 1, 1, 1, 0, 0,\n",
              "       0, 0, 0, 0, 1, 0, 1, 0, 1, 0, 1, 0, 0, 1, 1, 0, 1, 1, 0, 1, 0, 0,\n",
              "       0, 0, 1, 0, 1, 1, 0, 0, 0, 0, 0, 1, 0, 1, 0, 1, 0, 1, 1, 0, 0, 0,\n",
              "       0, 1, 1, 1, 0, 1, 0, 1, 0, 1, 1, 0, 1, 1, 0, 1, 0, 0, 0, 0, 0, 0,\n",
              "       1, 0, 0, 0, 1, 1, 1, 0, 0, 0, 0, 1, 0, 1, 1, 0, 0, 1, 0, 1, 0, 0,\n",
              "       1, 1, 0, 1, 1, 1, 0, 1, 1, 1, 0, 0, 0, 0, 0, 1, 0, 1, 0, 0, 0, 1,\n",
              "       0, 1, 1, 0, 1, 0, 0, 0, 0, 0, 0, 0, 1, 0, 0, 1, 1, 1, 1, 0, 1, 1,\n",
              "       1, 1, 0, 0, 1, 0, 1, 0, 0, 1, 1, 1, 0, 0, 0, 0, 0, 1, 1, 0, 1, 1,\n",
              "       0, 1])"
            ]
          },
          "metadata": {},
          "execution_count": 35
        }
      ]
    },
    {
      "cell_type": "code",
      "source": [
        "yhat.shape"
      ],
      "metadata": {
        "colab": {
          "base_uri": "https://localhost:8080/"
        },
        "id": "8Ufod_KLzjY6",
        "outputId": "e600f536-1c5a-4d1b-a2c4-7a64ac00829f"
      },
      "execution_count": 36,
      "outputs": [
        {
          "output_type": "execute_result",
          "data": {
            "text/plain": [
              "(200,)"
            ]
          },
          "metadata": {},
          "execution_count": 36
        }
      ]
    },
    {
      "cell_type": "code",
      "source": [
        "# Get yhat prediction counts\n",
        "pd.value_counts(yhat)"
      ],
      "metadata": {
        "colab": {
          "base_uri": "https://localhost:8080/"
        },
        "id": "SbO6n5ZQqjuw",
        "outputId": "a1ce2837-9fe0-4f34-d9b8-b191db8efc35"
      },
      "execution_count": 37,
      "outputs": [
        {
          "output_type": "execute_result",
          "data": {
            "text/plain": [
              "0    113\n",
              "1     87\n",
              "dtype: int64"
            ]
          },
          "metadata": {},
          "execution_count": 37
        }
      ]
    },
    {
      "cell_type": "markdown",
      "source": [
        "Returns probability estimates for provider status. The first column are Unregistered (0), and the second column are Registered (1). "
      ],
      "metadata": {
        "id": "GL6hYVnBztm2"
      }
    },
    {
      "cell_type": "code",
      "source": [
        "# Obtain probability predictions for test data\n",
        "yhat_prob = LR.predict_proba(X_test)\n",
        "yhat_prob"
      ],
      "metadata": {
        "colab": {
          "base_uri": "https://localhost:8080/"
        },
        "id": "RDeIbJmEzvFV",
        "outputId": "3eceed6a-dcae-41eb-e233-01ad7a006e81"
      },
      "execution_count": 38,
      "outputs": [
        {
          "output_type": "execute_result",
          "data": {
            "text/plain": [
              "array([[0.93485373, 0.06514627],\n",
              "       [0.94673821, 0.05326179],\n",
              "       [0.93419334, 0.06580666],\n",
              "       [0.96377021, 0.03622979],\n",
              "       [0.44927027, 0.55072973],\n",
              "       [0.9638079 , 0.0361921 ],\n",
              "       [0.9638079 , 0.0361921 ],\n",
              "       [0.92265898, 0.07734102],\n",
              "       [0.96859644, 0.03140356],\n",
              "       [0.45249553, 0.54750447],\n",
              "       [0.59850971, 0.40149029],\n",
              "       [0.05257431, 0.94742569],\n",
              "       [0.94974492, 0.05025508],\n",
              "       [0.93615605, 0.06384395],\n",
              "       [0.9643182 , 0.0356818 ],\n",
              "       [0.95990048, 0.04009952],\n",
              "       [0.50247352, 0.49752648],\n",
              "       [0.9643182 , 0.0356818 ],\n",
              "       [0.93485373, 0.06514627],\n",
              "       [0.05011566, 0.94988434],\n",
              "       [0.95337966, 0.04662034],\n",
              "       [0.04948421, 0.95051579],\n",
              "       [0.05257431, 0.94742569],\n",
              "       [0.94402407, 0.05597593],\n",
              "       [0.0531145 , 0.9468855 ],\n",
              "       [0.05257431, 0.94742569],\n",
              "       [0.04148429, 0.95851571],\n",
              "       [0.95432972, 0.04567028],\n",
              "       [0.96356799, 0.03643201],\n",
              "       [0.96339147, 0.03660853],\n",
              "       [0.06154553, 0.93845447],\n",
              "       [0.06616065, 0.93383935],\n",
              "       [0.96418249, 0.03581751],\n",
              "       [0.44124667, 0.55875333],\n",
              "       [0.06006126, 0.93993874],\n",
              "       [0.06547077, 0.93452923],\n",
              "       [0.48985351, 0.51014649],\n",
              "       [0.96418249, 0.03581751],\n",
              "       [0.95432972, 0.04567028],\n",
              "       [0.06217185, 0.93782815],\n",
              "       [0.06728676, 0.93271324],\n",
              "       [0.06437296, 0.93562704],\n",
              "       [0.53994279, 0.46005721],\n",
              "       [0.93615605, 0.06384395],\n",
              "       [0.5268588 , 0.4731412 ],\n",
              "       [0.53223622, 0.46776378],\n",
              "       [0.95241081, 0.04758919],\n",
              "       [0.96418249, 0.03581751],\n",
              "       [0.04158589, 0.95841411],\n",
              "       [0.95076523, 0.04923477],\n",
              "       [0.44124667, 0.55875333],\n",
              "       [0.9643182 , 0.0356818 ],\n",
              "       [0.07818707, 0.92181293],\n",
              "       [0.65171818, 0.34828182],\n",
              "       [0.48715678, 0.51284322],\n",
              "       [0.5604469 , 0.4395531 ],\n",
              "       [0.96418249, 0.03581751],\n",
              "       [0.48651924, 0.51348076],\n",
              "       [0.06387699, 0.93612301],\n",
              "       [0.9528976 , 0.0471024 ],\n",
              "       [0.48985351, 0.51014649],\n",
              "       [0.05191357, 0.94808643],\n",
              "       [0.56922742, 0.43077258],\n",
              "       [0.04627592, 0.95372408],\n",
              "       [0.93485373, 0.06514627],\n",
              "       [0.51062067, 0.48937933],\n",
              "       [0.63895896, 0.36104104],\n",
              "       [0.96356799, 0.03643201],\n",
              "       [0.04435739, 0.95564261],\n",
              "       [0.54593252, 0.45406748],\n",
              "       [0.05063194, 0.94936806],\n",
              "       [0.05257431, 0.94742569],\n",
              "       [0.96418249, 0.03581751],\n",
              "       [0.93550795, 0.06449205],\n",
              "       [0.94169993, 0.05830007],\n",
              "       [0.5512778 , 0.4487222 ],\n",
              "       [0.95076523, 0.04923477],\n",
              "       [0.05658133, 0.94341867],\n",
              "       [0.96342954, 0.03657046],\n",
              "       [0.04390213, 0.95609787],\n",
              "       [0.9638079 , 0.0361921 ],\n",
              "       [0.09989244, 0.90010756],\n",
              "       [0.57777095, 0.42222905],\n",
              "       [0.05938565, 0.94061435],\n",
              "       [0.08611704, 0.91388296],\n",
              "       [0.96356799, 0.03643201],\n",
              "       [0.93530827, 0.06469173],\n",
              "       [0.94323799, 0.05676201],\n",
              "       [0.93419334, 0.06580666],\n",
              "       [0.06518138, 0.93481862],\n",
              "       [0.06616065, 0.93383935],\n",
              "       [0.0531145 , 0.9468855 ],\n",
              "       [0.93550795, 0.06449205],\n",
              "       [0.07129479, 0.92870521],\n",
              "       [0.95315618, 0.04684382],\n",
              "       [0.06092512, 0.93907488],\n",
              "       [0.55394608, 0.44605392],\n",
              "       [0.05641797, 0.94358203],\n",
              "       [0.07896849, 0.92103151],\n",
              "       [0.96356799, 0.03643201],\n",
              "       [0.4943793 , 0.5056207 ],\n",
              "       [0.07818707, 0.92181293],\n",
              "       [0.96394497, 0.03605503],\n",
              "       [0.07723067, 0.92276933],\n",
              "       [0.96418249, 0.03581751],\n",
              "       [0.96342954, 0.03657046],\n",
              "       [0.95076523, 0.04923477],\n",
              "       [0.9553794 , 0.0446206 ],\n",
              "       [0.55124911, 0.44875089],\n",
              "       [0.96356799, 0.03643201],\n",
              "       [0.48985351, 0.51014649],\n",
              "       [0.96356799, 0.03643201],\n",
              "       [0.96826649, 0.03173351],\n",
              "       [0.95948298, 0.04051702],\n",
              "       [0.06323466, 0.93676534],\n",
              "       [0.05699528, 0.94300472],\n",
              "       [0.04909804, 0.95090196],\n",
              "       [0.96031385, 0.03968615],\n",
              "       [0.5140052 , 0.4859948 ],\n",
              "       [0.52381003, 0.47618997],\n",
              "       [0.9643182 , 0.0356818 ],\n",
              "       [0.05641797, 0.94358203],\n",
              "       [0.71286894, 0.28713106],\n",
              "       [0.07741273, 0.92258727],\n",
              "       [0.06196802, 0.93803198],\n",
              "       [0.94323799, 0.05676201],\n",
              "       [0.96266137, 0.03733863],\n",
              "       [0.05567338, 0.94432662],\n",
              "       [0.95479781, 0.04520219],\n",
              "       [0.48651924, 0.51348076],\n",
              "       [0.9638079 , 0.0361921 ],\n",
              "       [0.96280261, 0.03719739],\n",
              "       [0.04909804, 0.95090196],\n",
              "       [0.49255083, 0.50744917],\n",
              "       [0.5804016 , 0.4195984 ],\n",
              "       [0.06549696, 0.93450304],\n",
              "       [0.04834115, 0.95165885],\n",
              "       [0.04847875, 0.95152125],\n",
              "       [0.60858129, 0.39141871],\n",
              "       [0.054533  , 0.945467  ],\n",
              "       [0.04334539, 0.95665461],\n",
              "       [0.0542321 , 0.9457679 ],\n",
              "       [0.93485373, 0.06514627],\n",
              "       [0.55512271, 0.44487729],\n",
              "       [0.96356799, 0.03643201],\n",
              "       [0.95479781, 0.04520219],\n",
              "       [0.92265898, 0.07734102],\n",
              "       [0.08190413, 0.91809587],\n",
              "       [0.96356799, 0.03643201],\n",
              "       [0.07741273, 0.92258727],\n",
              "       [0.9638079 , 0.0361921 ],\n",
              "       [0.533065  , 0.466935  ],\n",
              "       [0.96356799, 0.03643201],\n",
              "       [0.05399544, 0.94600456],\n",
              "       [0.95432972, 0.04567028],\n",
              "       [0.06874502, 0.93125498],\n",
              "       [0.48715678, 0.51284322],\n",
              "       [0.93530827, 0.06469173],\n",
              "       [0.48985351, 0.51014649],\n",
              "       [0.96031385, 0.03968615],\n",
              "       [0.96266137, 0.03733863],\n",
              "       [0.9572532 , 0.0427468 ],\n",
              "       [0.96455335, 0.03544665],\n",
              "       [0.96418249, 0.03581751],\n",
              "       [0.95906133, 0.04093867],\n",
              "       [0.94939462, 0.05060538],\n",
              "       [0.4844608 , 0.5155392 ],\n",
              "       [0.5512778 , 0.4487222 ],\n",
              "       [0.54262255, 0.45737745],\n",
              "       [0.07374036, 0.92625964],\n",
              "       [0.06387699, 0.93612301],\n",
              "       [0.10144833, 0.89855167],\n",
              "       [0.06518138, 0.93481862],\n",
              "       [0.95600148, 0.04399852],\n",
              "       [0.08677472, 0.91322528],\n",
              "       [0.08171244, 0.91828756],\n",
              "       [0.06217185, 0.93782815],\n",
              "       [0.04999432, 0.95000568],\n",
              "       [0.57777095, 0.42222905],\n",
              "       [0.52317345, 0.47682655],\n",
              "       [0.04909804, 0.95090196],\n",
              "       [0.94939462, 0.05060538],\n",
              "       [0.05011566, 0.94988434],\n",
              "       [0.58370002, 0.41629998],\n",
              "       [0.96394497, 0.03605503],\n",
              "       [0.05063194, 0.94936806],\n",
              "       [0.07723067, 0.92276933],\n",
              "       [0.05628227, 0.94371773],\n",
              "       [0.9528976 , 0.0471024 ],\n",
              "       [0.93485373, 0.06514627],\n",
              "       [0.53555702, 0.46444298],\n",
              "       [0.96318721, 0.03681279],\n",
              "       [0.93910785, 0.06089215],\n",
              "       [0.09693794, 0.90306206],\n",
              "       [0.05510869, 0.94489131],\n",
              "       [0.55308666, 0.44691334],\n",
              "       [0.04299188, 0.95700812],\n",
              "       [0.05063194, 0.94936806],\n",
              "       [0.9258448 , 0.0741552 ],\n",
              "       [0.04960438, 0.95039562]])"
            ]
          },
          "metadata": {},
          "execution_count": 38
        }
      ]
    },
    {
      "cell_type": "code",
      "source": [
        "yhat_prob.shape"
      ],
      "metadata": {
        "colab": {
          "base_uri": "https://localhost:8080/"
        },
        "id": "xmgnsVuj3uVq",
        "outputId": "ff5bc4fa-05fb-454c-f336-e185a73c6e77"
      },
      "execution_count": 39,
      "outputs": [
        {
          "output_type": "execute_result",
          "data": {
            "text/plain": [
              "(200, 2)"
            ]
          },
          "metadata": {},
          "execution_count": 39
        }
      ]
    },
    {
      "cell_type": "markdown",
      "source": [
        "## Confusion Matrix "
      ],
      "metadata": {
        "id": "tuue5aLgPkmS"
      }
    },
    {
      "cell_type": "code",
      "source": [
        "# Classification Matrix Configuration and Plot\n",
        "\n",
        "from sklearn.metrics import classification_report, confusion_matrix\n",
        "import itertools\n",
        "def plot_confusion_matrix(cm, classes,\n",
        "                          normalize=False,\n",
        "                          title='Confusion matrix',\n",
        "                          cmap=plt.cm.Greens):\n",
        "\n",
        "    if normalize:\n",
        "        cm = cm.astype('float') / cm.sum(axis=1)[:, np.newaxis]\n",
        "        print(\"Normalized confusion matrix\")\n",
        "    else:\n",
        "        print('Confusion matrix, without normalization')\n",
        "\n",
        "    print(cm)\n",
        "\n",
        "    plt.imshow(cm, interpolation='nearest', cmap=cmap)\n",
        "    plt.title(title)\n",
        "    plt.colorbar()\n",
        "    tick_marks = np.arange(len(classes))\n",
        "    plt.xticks(tick_marks, classes, rotation=45)\n",
        "    plt.yticks(tick_marks, classes)\n",
        "\n",
        "    fmt = '.2f' if normalize else 'd'\n",
        "    thresh = cm.max() / 2.\n",
        "    for i, j in itertools.product(range(cm.shape[0]), range(cm.shape[1])):\n",
        "        plt.text(j, i, format(cm[i, j], fmt),\n",
        "                 horizontalalignment=\"center\",\n",
        "                 color=\"black\" if cm[i, j] > thresh else \"black\")\n",
        "\n",
        "    plt.tight_layout()\n",
        "    plt.ylabel('True label')\n",
        "    plt.xlabel('Predicted label')\n",
        "print(confusion_matrix(y_test, yhat, labels=[1,0]))"
      ],
      "metadata": {
        "colab": {
          "base_uri": "https://localhost:8080/"
        },
        "id": "AomgfeJJ7cC1",
        "outputId": "63727a07-c44d-4b41-d4b0-ced14a68bb02"
      },
      "execution_count": 40,
      "outputs": [
        {
          "output_type": "stream",
          "name": "stdout",
          "text": [
            "[[81 15]\n",
            " [ 6 98]]\n"
          ]
        }
      ]
    },
    {
      "cell_type": "code",
      "source": [
        "# Compute confusion matrix\n",
        "cnf_matrix = confusion_matrix(y_test, yhat, labels=[1,0])\n",
        "np.set_printoptions(precision=2)\n",
        "\n",
        "\n",
        "# Plot non-normalized confusion matrix\n",
        "plt.figure()\n",
        "plot_confusion_matrix(cnf_matrix, classes=['Registered=1','Unregistered=0'],normalize= False,  title='Confusion matrix')"
      ],
      "metadata": {
        "colab": {
          "base_uri": "https://localhost:8080/",
          "height": 363
        },
        "id": "ETVTpHjI7Rja",
        "outputId": "0387b70f-1347-4eb1-fa9e-022cc0952480"
      },
      "execution_count": 41,
      "outputs": [
        {
          "output_type": "stream",
          "name": "stdout",
          "text": [
            "Confusion matrix, without normalization\n",
            "[[81 15]\n",
            " [ 6 98]]\n"
          ]
        },
        {
          "output_type": "display_data",
          "data": {
            "text/plain": [
              "<Figure size 432x288 with 2 Axes>"
            ],
            "image/png": "[encoded data removed]"
          },
          "metadata": {
            "needs_background": "light"
          }
        }
      ]
    },
    {
      "cell_type": "code",
      "source": [
        "tn, fp, fn, tp = cnf_matrix.ravel()\n",
        "s = \"\"\"\n",
        "True Negatives: {3}\n",
        "False Positives {2}\n",
        "False Negatives {1}\n",
        "True Positives {0}\n",
        "\"\"\".format(tn, fp, fn, tp)\n",
        "\n",
        "print(s)"
      ],
      "metadata": {
        "colab": {
          "base_uri": "https://localhost:8080/"
        },
        "id": "befbkAlvkLzm",
        "outputId": "b81c66b0-657f-4d07-a7d0-4af472af508b"
      },
      "execution_count": 42,
      "outputs": [
        {
          "output_type": "stream",
          "name": "stdout",
          "text": [
            "\n",
            "True Negatives: 98\n",
            "False Positives 6\n",
            "False Negatives 15\n",
            "True Positives 81\n",
            "\n"
          ]
        }
      ]
    },
    {
      "cell_type": "markdown",
      "source": [
        "The confusion matrix visually displays the binary classifier's ability to correctly predict the classes (1=Registered, 0=Unregistered). Out of 200 test providers, the classifier correctly predicted 81 as 1 but incorrectly predicted 15 as 0. The classifier correctly predicted 98 as 0, and 6 of them incorrectly as 1."
      ],
      "metadata": {
        "id": "Ev0VAy2bLJwU"
      }
    },
    {
      "cell_type": "markdown",
      "source": [
        "## Model Accuracy Evaluation <a name=\"mae\"></a>"
      ],
      "metadata": {
        "id": "k_THXSaSPvnh"
      }
    },
    {
      "cell_type": "markdown",
      "source": [
        "## Classification Report "
      ],
      "metadata": {
        "id": "yMHVdltFPcTZ"
      }
    },
    {
      "cell_type": "markdown",
      "source": [
        "The metrics below can be used to help understand how well our model is able to predict provider status."
      ],
      "metadata": {
        "id": "Gl6-0VnIYJbD"
      }
    },
    {
      "cell_type": "markdown",
      "source": [
        "$Precision$ = $Positive$ $Predictive$ $Value$ = $\\frac{TP}{TP + FP}$"
      ],
      "metadata": {
        "id": "diYsy0oylhRk"
      }
    },
    {
      "cell_type": "markdown",
      "source": [
        "$Recall$ = $Sensitivity$ = $True$ $Positive$ $Rate$ = $\\frac{TP}{TP + FN}$"
      ],
      "metadata": {
        "id": "VkqZY9R1eJ3N"
      }
    },
    {
      "cell_type": "markdown",
      "source": [
        "$Accuracy$ =  $\\frac{TP + TN}{TP + TN + FP + FN}$"
      ],
      "metadata": {
        "id": "BMaZ9IlLqTSG"
      }
    },
    {
      "cell_type": "markdown",
      "source": [
        "$F1-Score$ = Average of Precision and Recall, the closer to 1, the better the model.  "
      ],
      "metadata": {
        "id": "FCD-Oaq8RAP1"
      }
    },
    {
      "cell_type": "code",
      "source": [
        "print (classification_report(y_test, yhat, target_names=['Unregistered', 'Registered']))"
      ],
      "metadata": {
        "colab": {
          "base_uri": "https://localhost:8080/"
        },
        "id": "4JA52wjx87YE",
        "outputId": "855c2200-d108-4d5d-883f-ab0ebff29182"
      },
      "execution_count": 43,
      "outputs": [
        {
          "output_type": "stream",
          "name": "stdout",
          "text": [
            "              precision    recall  f1-score   support\n",
            "\n",
            "Unregistered       0.87      0.94      0.90       104\n",
            "  Registered       0.93      0.84      0.89        96\n",
            "\n",
            "    accuracy                           0.90       200\n",
            "   macro avg       0.90      0.89      0.89       200\n",
            "weighted avg       0.90      0.90      0.89       200\n",
            "\n"
          ]
        }
      ]
    },
    {
      "cell_type": "markdown",
      "source": [
        "**Precision:** Out of all the people that the model predicted would be a registered, 93% were.\n",
        "\n",
        "**Recall:** Out of all the providers who were true registered, the model  predicted this outcome correctly for 84% of those people.\n",
        "\n",
        "**F1-score:** A registered F1-score of 0.89 tells us that the model does a good job of predicting provider status. \n",
        "\n",
        "The accuracy for this logistic regression classifier is 90%. "
      ],
      "metadata": {
        "id": "FNU0wxDBPuo3"
      }
    },
    {
      "cell_type": "markdown",
      "source": [
        "## ROC/AUC"
      ],
      "metadata": {
        "id": "MzoEBGArP5I-"
      }
    },
    {
      "cell_type": "code",
      "source": [
        "# Plot ROC/AUC (visualizes model performance)\n",
        "# Percentage of correct predictions\n",
        "\n",
        "from sklearn.metrics._plot.roc_curve import plot_roc_curve\n",
        "disp = plot_roc_curve(LR, X_test, y_test)"
      ],
      "metadata": {
        "colab": {
          "base_uri": "https://localhost:8080/",
          "height": 334
        },
        "id": "a37hch6YUNIX",
        "outputId": "01524842-014a-4bf0-d9c5-5791b4389f19"
      },
      "execution_count": 44,
      "outputs": [
        {
          "output_type": "stream",
          "name": "stderr",
          "text": [
            "/usr/local/lib/python3.8/dist-packages/sklearn/utils/deprecation.py:87: FutureWarning: Function plot_roc_curve is deprecated; Function :func:`plot_roc_curve` is deprecated in 1.0 and will be removed in 1.2. Use one of the class methods: :meth:`sklearn.metric.RocCurveDisplay.from_predictions` or :meth:`sklearn.metric.RocCurveDisplay.from_estimator`.\n",
            "  warnings.warn(msg, category=FutureWarning)\n"
          ]
        },
        {
          "output_type": "display_data",
          "data": {
            "text/plain": [
              "<Figure size 432x288 with 1 Axes>"
            ],
            "image/png": "[encoded data removed]"
          },
          "metadata": {
            "needs_background": "light"
          }
        }
      ]
    },
    {
      "cell_type": "markdown",
      "source": [
        "#Classification Model Comparison "
      ],
      "metadata": {
        "id": "wpFpON2IFzoQ"
      }
    },
    {
      "cell_type": "code",
      "source": [
        "# Evaluation metrics for classification models\n",
        "\n",
        "def evaluate_model(model, x_test, y_test):\n",
        "    from sklearn import metrics\n",
        "\n",
        "    # Predict Test Data \n",
        "    y_pred = model.predict(x_test)\n",
        "\n",
        "    # Calculate accuracy, precision, recall, f1-score, and kappa score\n",
        "    acc = metrics.accuracy_score(y_test, y_pred)\n",
        "    prec = metrics.precision_score(y_test, y_pred)\n",
        "    rec = metrics.recall_score(y_test, y_pred)\n",
        "    f1 = metrics.f1_score(y_test, y_pred)\n",
        "    kappa = metrics.cohen_kappa_score(y_test, y_pred)\n",
        "\n",
        "    # Calculate area under curve (AUC)\n",
        "    y_pred_proba = model.predict_proba(x_test)[::,1]\n",
        "    fpr, tpr, _ = metrics.roc_curve(y_test, y_pred_proba)\n",
        "    auc = metrics.roc_auc_score(y_test, y_pred_proba)\n",
        "\n",
        "    # Display confussion matrix\n",
        "    cm = metrics.confusion_matrix(y_test, y_pred)\n",
        "\n",
        "    return {'acc': acc, 'prec': prec, 'rec': rec, 'f1': f1, 'kappa': kappa, \n",
        "            'fpr': fpr, 'tpr': tpr, 'auc': auc, 'cm': cm}"
      ],
      "metadata": {
        "id": "RO7IPSms_v0x"
      },
      "execution_count": 45,
      "outputs": []
    },
    {
      "cell_type": "markdown",
      "source": [
        "Logistic Regression Model"
      ],
      "metadata": {
        "id": "ViGWwVxuJrrs"
      }
    },
    {
      "cell_type": "code",
      "source": [
        "from sklearn.linear_model import LogisticRegression\n",
        "\n",
        "# Building Logistic Regression model \n",
        "clf =LogisticRegression(random_state=0)\n",
        "clf.fit(X_train, y_train)\n",
        "\n",
        "# Evaluate Model\n",
        "clf_eval = evaluate_model(clf, X_test, y_test)\n",
        "\n",
        "# Print result\n",
        "print(clf)\n",
        "print('Accuracy:', clf_eval['acc'])\n",
        "print('Precision:', clf_eval['prec'])\n",
        "print('Recall:', clf_eval['rec'])\n",
        "print('F1 Score:', clf_eval['f1'])\n",
        "print('Cohens Kappa Score:', clf_eval['kappa'])\n",
        "print('Area Under Curve:', clf_eval['auc'])\n",
        "print('Confusion Matrix:\\n', clf_eval['cm'])"
      ],
      "metadata": {
        "colab": {
          "base_uri": "https://localhost:8080/"
        },
        "outputId": "5245aac6-86a6-42fb-99c8-dcb4ba52907b",
        "id": "IsNw5NpRJrrs"
      },
      "execution_count": 46,
      "outputs": [
        {
          "output_type": "stream",
          "name": "stdout",
          "text": [
            "LogisticRegression(random_state=0)\n",
            "Accuracy: 0.88\n",
            "Precision: 0.9615384615384616\n",
            "Recall: 0.78125\n",
            "F1 Score: 0.8620689655172413\n",
            "Cohens Kappa Score: 0.7578692493946732\n",
            "Area Under Curve: 0.9813701923076923\n",
            "Confusion Matrix:\n",
            " [[101   3]\n",
            " [ 21  75]]\n"
          ]
        }
      ]
    },
    {
      "cell_type": "markdown",
      "source": [
        "Decision Tree Model"
      ],
      "metadata": {
        "id": "Yrg_75phJaJO"
      }
    },
    {
      "cell_type": "code",
      "source": [
        "from sklearn import tree\n",
        "\n",
        "# Building Decision Tree model \n",
        "dtc = tree.DecisionTreeClassifier(random_state=0)\n",
        "dtc.fit(X_train, y_train)\n",
        "\n",
        "# Evaluate Model\n",
        "dtc_eval = evaluate_model(dtc, X_test, y_test)\n",
        "\n",
        "# Print result\n",
        "print('Accuracy:', dtc_eval['acc'])\n",
        "print('Precision:', dtc_eval['prec'])\n",
        "print('Recall:', dtc_eval['rec'])\n",
        "print('F1 Score:', dtc_eval['f1'])\n",
        "print('Cohens Kappa Score:', dtc_eval['kappa'])\n",
        "print('Area Under Curve:', dtc_eval['auc'])\n",
        "print('Confusion Matrix:\\n', dtc_eval['cm'])"
      ],
      "metadata": {
        "colab": {
          "base_uri": "https://localhost:8080/"
        },
        "id": "rVl9isBo_88M",
        "outputId": "39e0db51-aa0a-4398-af22-d8fac913cd0b"
      },
      "execution_count": 47,
      "outputs": [
        {
          "output_type": "stream",
          "name": "stdout",
          "text": [
            "Accuracy: 0.89\n",
            "Precision: 0.9021739130434783\n",
            "Recall: 0.8645833333333334\n",
            "F1 Score: 0.8829787234042554\n",
            "Cohens Kappa Score: 0.7792937399678973\n",
            "Area Under Curve: 0.9371494391025642\n",
            "Confusion Matrix:\n",
            " [[95  9]\n",
            " [13 83]]\n"
          ]
        }
      ]
    },
    {
      "cell_type": "markdown",
      "source": [
        "Random Forrest Model "
      ],
      "metadata": {
        "id": "4bwcdE1ZJfuV"
      }
    },
    {
      "cell_type": "code",
      "source": [
        "from sklearn.ensemble import RandomForestClassifier\n",
        "\n",
        "# Building Random Forest model \n",
        "rf = RandomForestClassifier(random_state=0)\n",
        "rf.fit(X_train, y_train)\n",
        "\n",
        "# Evaluate Model\n",
        "rf_eval = evaluate_model(rf, X_test, y_test)\n",
        "\n",
        "# Print result\n",
        "print('Accuracy:', rf_eval['acc'])\n",
        "print('Precision:', rf_eval['prec'])\n",
        "print('Recall:', rf_eval['rec'])\n",
        "print('F1 Score:', rf_eval['f1'])\n",
        "print('Cohens Kappa Score:', rf_eval['kappa'])\n",
        "print('Area Under Curve:', rf_eval['auc'])\n",
        "print('Confusion Matrix:\\n', rf_eval['cm'])"
      ],
      "metadata": {
        "colab": {
          "base_uri": "https://localhost:8080/"
        },
        "id": "31MHtYGfBVim",
        "outputId": "c9fc85e4-3d8a-4755-fa80-11334bc9db84"
      },
      "execution_count": 48,
      "outputs": [
        {
          "output_type": "stream",
          "name": "stdout",
          "text": [
            "Accuracy: 0.885\n",
            "Precision: 0.8686868686868687\n",
            "Recall: 0.8958333333333334\n",
            "F1 Score: 0.8820512820512821\n",
            "Cohens Kappa Score: 0.7699079631852741\n",
            "Area Under Curve: 0.9749599358974359\n",
            "Confusion Matrix:\n",
            " [[91 13]\n",
            " [10 86]]\n"
          ]
        }
      ]
    },
    {
      "cell_type": "markdown",
      "source": [
        "Gradient Boosted Machine"
      ],
      "metadata": {
        "id": "vidCXzZoYe_q"
      }
    },
    {
      "cell_type": "code",
      "source": [
        "from sklearn.ensemble import GradientBoostingClassifier\n",
        "\n",
        "# Building Gradient Boosting Machine model \n",
        "gbm = GradientBoostingClassifier(random_state=0)\n",
        "gbm.fit(X_train, y_train)\n",
        "\n",
        "# Evaluate Model\n",
        "gbm_eval = evaluate_model(gbm, X_test, y_test)\n",
        "\n",
        "# Print result\n",
        "print('Accuracy:', gbm_eval['acc'])\n",
        "print('Precision:', gbm_eval['prec'])\n",
        "print('Recall:', gbm_eval['rec'])\n",
        "print('F1 Score:', gbm_eval['f1'])\n",
        "print('Cohens Kappa Score:', gbm_eval['kappa'])\n",
        "print('Area Under Curve:', gbm_eval['auc'])\n",
        "print('Confusion Matrix:\\n', gbm_eval['cm'])"
      ],
      "metadata": {
        "colab": {
          "base_uri": "https://localhost:8080/"
        },
        "id": "gGGEpusZYf-W",
        "outputId": "7b0b737a-8fc7-4aec-de9c-9edaf327c42e"
      },
      "execution_count": 49,
      "outputs": [
        {
          "output_type": "stream",
          "name": "stdout",
          "text": [
            "Accuracy: 0.9\n",
            "Precision: 0.9318181818181818\n",
            "Recall: 0.8541666666666666\n",
            "F1 Score: 0.8913043478260869\n",
            "Cohens Kappa Score: 0.7990353697749196\n",
            "Area Under Curve: 0.9733072916666667\n",
            "Confusion Matrix:\n",
            " [[98  6]\n",
            " [14 82]]\n"
          ]
        }
      ]
    },
    {
      "cell_type": "code",
      "source": [
        "# Plot 4 Classification Models and Compare Results\n",
        "\n",
        "# Intitialize figure with two plots\n",
        "fig, (ax1, ax2) = plt.subplots(1, 2)\n",
        "fig.suptitle('Classification Model Comparison', fontsize=16, fontweight='bold')\n",
        "fig.set_figheight(7)\n",
        "fig.set_figwidth(18)\n",
        "fig.set_facecolor('white')\n",
        "\n",
        "# First plot\n",
        "## set bar size\n",
        "barWidth = 0.15\n",
        "clf_score = [clf_eval['acc'], clf_eval['prec'], clf_eval['rec'], clf_eval['f1'], clf_eval['kappa']]\n",
        "dtc_score = [dtc_eval['acc'], dtc_eval['prec'], dtc_eval['rec'], dtc_eval['f1'], dtc_eval['kappa']]\n",
        "rf_score = [rf_eval['acc'], rf_eval['prec'], rf_eval['rec'], rf_eval['f1'], rf_eval['kappa']]\n",
        "gbm_score = [gbm_eval['acc'], gbm_eval['prec'], gbm_eval['rec'], gbm_eval['f1'], gbm_eval['kappa']]\n",
        "\n",
        "## Set position of bar on X axis\n",
        "r1 = np.arange(len(clf_score))\n",
        "r2 = [x + barWidth for x in r1]\n",
        "r3 = [x + barWidth for x in r2]\n",
        "r4 = [x + barWidth for x in r3]\n",
        "\n",
        "## Make the plot\n",
        "ax1.bar(r1, clf_score, width=barWidth, edgecolor='white', label='Logistic Regression')\n",
        "ax1.bar(r2, dtc_score, width=barWidth, edgecolor='white', label='Decision Tree')\n",
        "ax1.bar(r3, rf_score, width=barWidth, edgecolor='white', label='Random Forest')\n",
        "ax1.bar(r4, gbm_score, width=barWidth, edgecolor='white', label='Gradient Boosted Machine')\n",
        "\n",
        "## Configure x and y axis\n",
        "ax1.set_xlabel('Metrics', fontweight='bold')\n",
        "labels = ['Accuracy', 'Precision', 'Recall', 'F1', 'Kappa']\n",
        "ax1.set_xticks([r + (barWidth * 1.5) for r in range(len(clf_score))], )\n",
        "ax1.set_xticklabels(labels)\n",
        "ax1.set_ylabel('Score', fontweight='bold')\n",
        "ax1.set_ylim(0, 1)\n",
        "\n",
        "## Create legend & title\n",
        "ax1.set_title('Evaluation Metrics', fontsize=14, fontweight='bold')\n",
        "ax1.legend(loc=8)\n",
        "\n",
        "# Second plot\n",
        "## Comparing ROC Curve\n",
        "ax2.plot(clf_eval['fpr'], clf_eval['tpr'], label='Logistic Regression, auc = {:0.5f}'.format(clf_eval['auc']))\n",
        "ax2.plot(dtc_eval['fpr'], dtc_eval['tpr'], label='Decision Tree, auc = {:0.5f}'.format(dtc_eval['auc']))\n",
        "ax2.plot(rf_eval['fpr'], rf_eval['tpr'], label='Random Forest, auc = {:0.5f}'.format(rf_eval['auc']))\n",
        "ax2.plot(gbm_eval['fpr'], gbm_eval['tpr'], label='Gradient Boosted Machine, auc = {:0.5f}'.format(gbm_eval['auc']))\n",
        "\n",
        "## Configure x and y axis\n",
        "ax2.set_xlabel('False Positive Rate', fontweight='bold')\n",
        "ax2.set_ylabel('True Positive Rate', fontweight='bold')\n",
        "\n",
        "## Create legend & title\n",
        "ax2.set_title('ROC Curve', fontsize=14, fontweight='bold')\n",
        "ax2.legend(loc=8)\n",
        "\n",
        "plt.show()"
      ],
      "metadata": {
        "colab": {
          "base_uri": "https://localhost:8080/",
          "height": 394
        },
        "id": "EzX2B36uAFSg",
        "outputId": "47caa7b0-a34f-44dc-c32f-215eb19191c7"
      },
      "execution_count": 50,
      "outputs": [
        {
          "output_type": "display_data",
          "data": {
            "text/plain": [
              "<Figure size 1296x504 with 2 Axes>"
            ],
            "image/png": "[encoded data removed]"
          },
          "metadata": {}
        }
      ]
    },
    {
      "cell_type": "code",
      "source": [
        "#@title Default title text\n",
        "# Plot feature importances \n",
        "\n",
        "importances = gbm.feature_importances_\n",
        "indices = np.argsort(importances)[::-1]\n",
        "feature_names = df.columns\n",
        "\n",
        "print(\"Feature ranking:\")\n",
        "for f in range(X.shape[1]):\n",
        "    print(\"%s : (%f)\" % (feature_names[f] , importances[indices[f]]))"
      ],
      "metadata": {
        "colab": {
          "base_uri": "https://localhost:8080/"
        },
        "id": "w2v1sBRonGwp",
        "outputId": "367d84eb-9abb-4d51-c895-58f564d69440"
      },
      "execution_count": 51,
      "outputs": [
        {
          "output_type": "stream",
          "name": "stdout",
          "text": [
            "Feature ranking:\n",
            "SanctionCount_0 : (0.774394)\n",
            "SanctionCount_1 : (0.093510)\n",
            "LocationCount_1 : (0.065010)\n",
            "LocationCount_2 : (0.014696)\n",
            "LocationCount_missing : (0.010320)\n",
            "ProviderTypeIdName_MD : (0.005737)\n",
            "ProviderTypeIdName_NP : (0.004589)\n",
            "ProviderTypeIdName_Other : (0.004497)\n",
            "ProviderTypeIdName_PA : (0.004347)\n",
            "ProviderTypeIdName_missing : (0.003592)\n",
            "PrimaryPracticeStateIdName_CA : (0.003353)\n",
            "PrimaryPracticeStateIdName_CO : (0.002765)\n",
            "PrimaryPracticeStateIdName_CT : (0.002464)\n",
            "PrimaryPracticeStateIdName_GA : (0.001914)\n",
            "PrimaryPracticeStateIdName_NY : (0.001580)\n",
            "PrimaryPracticeStateIdName_Other : (0.001482)\n",
            "PrimaryPracticeStateIdName_SC : (0.001284)\n",
            "PrimaryPracticeStateIdName_TX : (0.001049)\n",
            "PrimaryPracticeStateIdName_missing : (0.001041)\n",
            "Email1Root_Other : (0.000954)\n",
            "Email1Root_com : (0.000549)\n",
            "Email1Root_missing : (0.000524)\n",
            "Email1AddressBounced_No : (0.000291)\n",
            "Email1AddressBounced_Yes : (0.000057)\n",
            "Email1AddressBounced_missing : (0.000000)\n",
            "ProviderStatusGroup : (0.000000)\n"
          ]
        }
      ]
    },
    {
      "cell_type": "code",
      "source": [
        "f, ax = plt.subplots(figsize=(15, 15))\n",
        "plt.title(\"Feature ranking\", fontsize = 12)\n",
        "plt.bar(range(X.shape[1]), importances[indices],\n",
        "    color=\"b\", \n",
        "    align=\"center\")\n",
        "plt.xticks(range(X.shape[1]), feature_names)\n",
        "plt.xlim([-1, X.shape[1]])\n",
        "plt.ylabel(\"importance\", fontsize = 18)\n",
        "plt.xlabel(\"index of the feature\", fontsize = 18)"
      ],
      "metadata": {
        "colab": {
          "base_uri": "https://localhost:8080/",
          "height": 842
        },
        "id": "k1D9wohxnU9w",
        "outputId": "4ecf6e59-0c5f-4717-c893-ca24b05cf262"
      },
      "execution_count": 52,
      "outputs": [
        {
          "output_type": "execute_result",
          "data": {
            "text/plain": [
              "Text(0.5, 0, 'index of the feature')"
            ]
          },
          "metadata": {},
          "execution_count": 52
        },
        {
          "output_type": "display_data",
          "data": {
            "text/plain": [
              "<Figure size 1080x1080 with 1 Axes>"
            ],
            "image/png": "[encoded data removed]"
          },
          "metadata": {
            "needs_background": "light"
          }
        }
      ]
    }
  ]
}